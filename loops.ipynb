{
 "cells": [
  {
   "cell_type": "code",
   "execution_count": 1,
   "id": "9f938dfb-eeee-4b0c-9dc7-d7f4ff3c4139",
   "metadata": {},
   "outputs": [
    {
     "name": "stdout",
     "output_type": "stream",
     "text": [
      "0 is less than 5\n",
      "1 is less than 5\n",
      "2 is less than 5\n",
      "3 is less than 5\n",
      "4 is less than 5\n"
     ]
    }
   ],
   "source": [
    "n=0\n",
    "while n<5:\n",
    "    print(f\"{n} is less than 5\")\n",
    "    n=n+1\n",
    "    \n"
   ]
  },
  {
   "cell_type": "code",
   "execution_count": 2,
   "id": "65f697cc-8ec3-405e-a892-8d1d0fc5d47f",
   "metadata": {},
   "outputs": [
    {
     "name": "stdout",
     "output_type": "stream",
     "text": [
      "0 is less than 5\n",
      "Insde th loop\n",
      "1 is less than 5\n",
      "Insde th loop\n",
      "2 is less than 5\n",
      "Insde th loop\n"
     ]
    }
   ],
   "source": [
    "n=0\n",
    "while n<5:\n",
    "    print(f\"{n} is less than 5\")\n",
    "    print(\"Insde th loop\")\n",
    "    n=n+1\n",
    "    if n==3:\n",
    "        break\n",
    "    "
   ]
  },
  {
   "cell_type": "code",
   "execution_count": 11,
   "id": "37c82fd5-05cb-41e2-adf2-679351b4879a",
   "metadata": {},
   "outputs": [
    {
     "name": "stdin",
     "output_type": "stream",
     "text": [
      "Enter your username:  jis\n",
      "Enter your password:  da\n",
      "Enter your username:  sd\n",
      "Enter your password:  ad\n",
      "Enter your username:  asd\n",
      "Enter your password:  ad\n",
      "Enter your username:  mike\n",
      "Enter your password:  004\n"
     ]
    },
    {
     "name": "stdout",
     "output_type": "stream",
     "text": [
      "Login Successful!\n"
     ]
    }
   ],
   "source": [
    "#Simple password login app\n",
    "while True:\n",
    "    username=input(\"Enter your username: \")\n",
    "    password=input(\"Enter your password: \")\n",
    "\n",
    "    if username ==\"mike\" and password==\"004\":\n",
    "         print(\"Login Successful!\")\n",
    "         break"
   ]
  },
  {
   "cell_type": "code",
   "execution_count": 19,
   "id": "d44c3225-19fb-4e2d-806e-903621424fcb",
   "metadata": {},
   "outputs": [
    {
     "name": "stdout",
     "output_type": "stream",
     "text": [
      "2.5\n"
     ]
    }
   ],
   "source": [
    "total=0\n",
    "count=0\n",
    "for i in range(1,5):\n",
    "   total=total+i\n",
    "   count=count+1 \n",
    "print(total/count)"
   ]
  },
  {
   "cell_type": "code",
   "execution_count": null,
   "id": "b7bc008b-2d6f-494b-b34b-cf111747d051",
   "metadata": {},
   "outputs": [],
   "source": []
  }
 ],
 "metadata": {
  "kernelspec": {
   "display_name": "Python [conda env:base] *",
   "language": "python",
   "name": "conda-base-py"
  },
  "language_info": {
   "codemirror_mode": {
    "name": "ipython",
    "version": 3
   },
   "file_extension": ".py",
   "mimetype": "text/x-python",
   "name": "python",
   "nbconvert_exporter": "python",
   "pygments_lexer": "ipython3",
   "version": "3.13.5"
  }
 },
 "nbformat": 4,
 "nbformat_minor": 5
}
