{
 "cells": [
  {
   "cell_type": "code",
   "execution_count": 18,
   "id": "c9aca8c3-e534-4d16-aa82-3661dc6f66a7",
   "metadata": {},
   "outputs": [
    {
     "name": "stdout",
     "output_type": "stream",
     "text": [
      "Simple Calculator App\n",
      "--------------------\n",
      "Enter 1 for Addition\n",
      "Enter 2 for Subtraction\n",
      "Enter 3 for Division\n",
      "Enter 4 for Multiplication\n",
      "\n"
     ]
    },
    {
     "name": "stdin",
     "output_type": "stream",
     "text": [
      "Enter your choice:  asss\n"
     ]
    },
    {
     "name": "stdout",
     "output_type": "stream",
     "text": [
      "Please enter a numeric value.\n",
      "invalid literal for int() with base 10: 'asss'\n"
     ]
    }
   ],
   "source": [
    "def addition():\n",
    "    num1 = float(input(\"Enter First Number: \"))\n",
    "    num2 = float(input(\"Enter Second Number: \"))\n",
    "    return num1 + num2\n",
    "\n",
    "def subtraction():\n",
    "    num1 = float(input(\"Enter First Number: \"))\n",
    "    num2 = float(input(\"Enter Second Number: \"))\n",
    "    return num1 - num2\n",
    "\n",
    "def division():\n",
    "    num1 = float(input(\"Enter First Number: \"))\n",
    "    num2 = float(input(\"Enter Second Number: \"))\n",
    "    return num1 / num2\n",
    "\n",
    "def multiplication():\n",
    "    num1 = float(input(\"Enter First Number: \"))\n",
    "    num2 = float(input(\"Enter Second Number: \"))\n",
    "    return num1 * num2\n",
    "\n",
    "print(\"Simple Calculator App\")\n",
    "print(\"-\" * 20)\n",
    "print(\"Enter 1 for Addition\")\n",
    "print(\"Enter 2 for Subtraction\")\n",
    "print(\"Enter 3 for Division\")\n",
    "print(\"Enter 4 for Multiplication\")\n",
    "print()\n",
    "\n",
    "try: \n",
    "    choice = int(input(\"Enter your choice: \"))\n",
    "    if choice == 1:\n",
    "        addition_result = addition()\n",
    "        print(\"Result:\", addition_result)\n",
    "    \n",
    "    elif choice == 2:\n",
    "        subtraction_result = subtraction()\n",
    "        print(\"Result:\", subtraction_result)\n",
    "    \n",
    "    elif choice == 3:\n",
    "        division_result = division()\n",
    "        print(\"Result:\", division_result)\n",
    "    \n",
    "    elif choice == 4:\n",
    "        multiply_result = multiplication()\n",
    "        print(\"Result:\", multiply_result)\n",
    "    \n",
    "    else:\n",
    "        print(\"Invalid Choice\")\n",
    "except Exception as error:\n",
    "    print(\"Please enter a numeric value.\")\n",
    "    print(f\"{error}\")"
   ]
  },
  {
   "cell_type": "markdown",
   "id": "08bf742d-dcc9-4c5d-b944-1a6444c03868",
   "metadata": {},
   "source": [
    "# "
   ]
  }
 ],
 "metadata": {
  "kernelspec": {
   "display_name": "Python [conda env:base] *",
   "language": "python",
   "name": "conda-base-py"
  },
  "language_info": {
   "codemirror_mode": {
    "name": "ipython",
    "version": 3
   },
   "file_extension": ".py",
   "mimetype": "text/x-python",
   "name": "python",
   "nbconvert_exporter": "python",
   "pygments_lexer": "ipython3",
   "version": "3.13.5"
  }
 },
 "nbformat": 4,
 "nbformat_minor": 5
}
