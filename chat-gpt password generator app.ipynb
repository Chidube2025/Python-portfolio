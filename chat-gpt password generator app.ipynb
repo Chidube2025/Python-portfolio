{
 "cells": [
  {
   "cell_type": "code",
   "execution_count": 1,
   "id": "b93cd95f-8647-40fa-a9bc-45a951758c1f",
   "metadata": {},
   "outputs": [
    {
     "name": "stdin",
     "output_type": "stream",
     "text": [
      "How many letters do you want in your password?  6\n",
      "How many numbers do you want in your password?  6\n",
      "How many symbols do you want in your password?  6\n"
     ]
    },
    {
     "name": "stdout",
     "output_type": "stream",
     "text": [
      "\n",
      "Your generated password is: a*55!1w(h%/W5(z8t1\n",
      "Password strength: Medium\n"
     ]
    }
   ],
   "source": [
    "import random\n",
    "import string\n",
    "\n",
    "LETTERS = string.ascii_letters  # a-zA-Z\n",
    "NUMBERS = string.digits         # 0-9\n",
    "SYMBOLS = \"!@#$%^&()*+?/\"\n",
    "\n",
    "def get_positive_int(prompt):\n",
    "    \"\"\"Prompt the user until they enter a valid non-negative integer.\"\"\"\n",
    "    while True:\n",
    "        try:\n",
    "            value = int(input(prompt))\n",
    "            if value < 0:\n",
    "                print(\"Please enter a non-negative number.\")\n",
    "            else:\n",
    "                return value\n",
    "        except ValueError:\n",
    "            print(\"Invalid input. Please enter a whole number.\")\n",
    "\n",
    "def generate_password(n_letters, n_numbers, n_symbols):\n",
    "    \"\"\"Generate a random password of letters, numbers, and symbols.\"\"\"\n",
    "    letter_choices = [random.choice(LETTERS) for _ in range(n_letters)]\n",
    "    number_choices = [random.choice(NUMBERS) for _ in range(n_numbers)]\n",
    "    symbol_choices = [random.choice(SYMBOLS) for _ in range(n_symbols)]\n",
    "\n",
    "    password_list = letter_choices + number_choices + symbol_choices\n",
    "    random.shuffle(password_list)\n",
    "\n",
    "    return \"\".join(password_list)\n",
    "\n",
    "def evaluate_password_strength(password):\n",
    "    \"\"\"Evaluate the strength of a password based on length and character variety.\"\"\"\n",
    "    length = len(password)\n",
    "    has_lower = any(c.islower() for c in password)\n",
    "    has_upper = any(c.isupper() for c in password)\n",
    "    has_digit = any(c.isdigit() for c in password)\n",
    "    has_symbol = any(c in SYMBOLS for c in password)\n",
    "\n",
    "    score = sum([has_lower, has_upper, has_digit, has_symbol])\n",
    "\n",
    "    # Strength logic\n",
    "    if length < 6 or score < 2:\n",
    "        return \"Weak\"\n",
    "    elif length >= 6 and score >= 3:\n",
    "        return \"Medium\"\n",
    "    elif length >= 10 and score == 4:\n",
    "        return \"Strong\"\n",
    "    return \"Medium\"    \n",
    "   \n",
    "\n",
    "def main():\n",
    "    # Get validated user input\n",
    "    n_letters = get_positive_int(\"How many letters do you want in your password? \")\n",
    "    n_numbers = get_positive_int(\"How many numbers do you want in your password? \")\n",
    "    n_symbols = get_positive_int(\"How many symbols do you want in your password? \")\n",
    "\n",
    "    if n_letters + n_numbers + n_symbols == 0:\n",
    "        print(\"You must choose at least one character for your password.\")\n",
    "        exit()\n",
    "\n",
    "    # Generate password\n",
    "    password = generate_password(n_letters, n_numbers, n_symbols)\n",
    "    strength = evaluate_password_strength(password)\n",
    "\n",
    "    print(f\"\\nYour generated password is: {password}\")\n",
    "    print(f\"Password strength: {strength}\")\n",
    "\n",
    "\n",
    "if __name__ == \"__main__\": \n",
    "    main()"
   ]
  },
  {
   "cell_type": "code",
   "execution_count": null,
   "id": "82c69447-0063-491c-91ee-dc15e72bd1f7",
   "metadata": {},
   "outputs": [],
   "source": []
  }
 ],
 "metadata": {
  "kernelspec": {
   "display_name": "Python [conda env:base] *",
   "language": "python",
   "name": "conda-base-py"
  },
  "language_info": {
   "codemirror_mode": {
    "name": "ipython",
    "version": 3
   },
   "file_extension": ".py",
   "mimetype": "text/x-python",
   "name": "python",
   "nbconvert_exporter": "python",
   "pygments_lexer": "ipython3",
   "version": "3.13.5"
  }
 },
 "nbformat": 4,
 "nbformat_minor": 5
}
