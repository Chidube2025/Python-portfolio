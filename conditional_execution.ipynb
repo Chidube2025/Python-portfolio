{
 "cells": [
  {
   "cell_type": "markdown",
   "id": "978da35f-9c9b-412b-932b-8fe1b1e73828",
   "metadata": {},
   "source": [
    "# comparism operatorrs\n",
    "### Greater thean >\n",
    "### Less than: <\n",
    "### greatar than or equal to >=\n",
    "### less than or equal to <=\n",
    "### Equal to ==\n",
    "### Not equal to !="
   ]
  },
  {
   "cell_type": "code",
   "execution_count": 1,
   "id": "62a1ca1f-164c-4bea-a49c-33d255d6f36b",
   "metadata": {},
   "outputs": [],
   "source": [
    "num1=11\n",
    "num2=5"
   ]
  },
  {
   "cell_type": "code",
   "execution_count": 2,
   "id": "e98e4000-4307-46f8-8a36-566995aa9a8c",
   "metadata": {},
   "outputs": [
    {
     "data": {
      "text/plain": [
       "False"
      ]
     },
     "execution_count": 2,
     "metadata": {},
     "output_type": "execute_result"
    }
   ],
   "source": [
    "num1<num2"
   ]
  },
  {
   "cell_type": "code",
   "execution_count": 3,
   "id": "e54d83e5-c013-4b4e-9fbe-069dc52de2e0",
   "metadata": {},
   "outputs": [
    {
     "data": {
      "text/plain": [
       "False"
      ]
     },
     "execution_count": 3,
     "metadata": {},
     "output_type": "execute_result"
    }
   ],
   "source": [
    "num1 == num2"
   ]
  },
  {
   "cell_type": "code",
   "execution_count": 4,
   "id": "887979f1-1eb8-48d6-bd16-87e32e6db404",
   "metadata": {},
   "outputs": [
    {
     "data": {
      "text/plain": [
       "True"
      ]
     },
     "execution_count": 4,
     "metadata": {},
     "output_type": "execute_result"
    }
   ],
   "source": [
    "num1!=num2"
   ]
  },
  {
   "cell_type": "code",
   "execution_count": 5,
   "id": "81ae3b41-3409-4619-b306-20e5527287f4",
   "metadata": {},
   "outputs": [],
   "source": [
    "#If statement"
   ]
  },
  {
   "cell_type": "code",
   "execution_count": 9,
   "id": "f925d128-9a18-4130-88c8-1187ef0d1481",
   "metadata": {},
   "outputs": [
    {
     "name": "stdin",
     "output_type": "stream",
     "text": [
      "Enter your age 34\n"
     ]
    },
    {
     "name": "stdout",
     "output_type": "stream",
     "text": [
      "You are eligible\n"
     ]
    }
   ],
   "source": [
    "age = input(\"Enter your age\")\n",
    "age=int(age)\n",
    "if age>=18:\n",
    "    print(\"You are eligible\")"
   ]
  },
  {
   "cell_type": "code",
   "execution_count": 10,
   "id": "340fed04-36be-4f9f-bfec-3dfca5b0b856",
   "metadata": {},
   "outputs": [
    {
     "name": "stdin",
     "output_type": "stream",
     "text": [
      "Enter your age 34\n"
     ]
    },
    {
     "name": "stdout",
     "output_type": "stream",
     "text": [
      "You are eligible\n"
     ]
    }
   ],
   "source": [
    "age = int(input(\"Enter your age\"))\n",
    "if age>=18:\n",
    "    print(\"You are eligible\")"
   ]
  },
  {
   "cell_type": "code",
   "execution_count": 11,
   "id": "89d75279-2cc1-491b-abbb-aa341176cf81",
   "metadata": {},
   "outputs": [],
   "source": [
    "#Multiple ifs statement"
   ]
  },
  {
   "cell_type": "code",
   "execution_count": 12,
   "id": "7c4dbdda-e9d2-4919-951e-8bc24fcef320",
   "metadata": {},
   "outputs": [
    {
     "name": "stdout",
     "output_type": "stream",
     "text": [
      "You are an adult\n"
     ]
    }
   ],
   "source": [
    "age = 16\n",
    "if age>= 18:\n",
    "   print(\"You are a youth\")\n",
    "if age<30:\n",
    "    print(\"You are an adult\")"
   ]
  },
  {
   "cell_type": "code",
   "execution_count": 13,
   "id": "2926e8e5-c065-44d3-af88-06646c0c574f",
   "metadata": {},
   "outputs": [],
   "source": [
    "#if-else statement\n"
   ]
  },
  {
   "cell_type": "code",
   "execution_count": 14,
   "id": "a6110f78-cfff-40bd-bebc-7000c8bb0421",
   "metadata": {},
   "outputs": [
    {
     "name": "stdin",
     "output_type": "stream",
     "text": [
      "Enter your age 23\n"
     ]
    },
    {
     "name": "stdout",
     "output_type": "stream",
     "text": [
      "You are eligible to vote!\n"
     ]
    }
   ],
   "source": [
    "age =input(\"Enter your age\")\n",
    "age = int(age)\n",
    "if age >=18:\n",
    "    print(\"You are eligible to vote!\")\n",
    "else:\n",
    "    print(\"You are are not eligible to vote!\")"
   ]
  },
  {
   "cell_type": "code",
   "execution_count": 15,
   "id": "7c7984e9-0fb5-4697-b510-b713f8322ac5",
   "metadata": {},
   "outputs": [
    {
     "name": "stdin",
     "output_type": "stream",
     "text": [
      "Enter your score:  57\n"
     ]
    },
    {
     "name": "stdout",
     "output_type": "stream",
     "text": [
      "You passed!\n"
     ]
    }
   ],
   "source": [
    "score = input(\"Enter your score: \")\n",
    "score = float(score)\n",
    "if score>=40:\n",
    "    print(\"You passed!\")\n",
    "else:\n",
    "    print(\"You failed!\")"
   ]
  },
  {
   "cell_type": "code",
   "execution_count": 16,
   "id": "0820c2cc-754b-4a44-b468-622feaaccd38",
   "metadata": {},
   "outputs": [],
   "source": [
    "#Nested if-else statement"
   ]
  },
  {
   "cell_type": "code",
   "execution_count": 45,
   "id": "44ab96c5-d2c4-48b5-95df-76b43d5e0761",
   "metadata": {},
   "outputs": [
    {
     "name": "stdin",
     "output_type": "stream",
     "text": [
      "Enter your age:  17\n",
      "Enter your country:  Nigeria\n"
     ]
    },
    {
     "name": "stdout",
     "output_type": "stream",
     "text": [
      "You are not eligible to vote!\n",
      "Finished Runnng.\n"
     ]
    }
   ],
   "source": [
    "age= int(input(\"Enter your age: \"))\n",
    "country= input(\"Enter your country: \")\n",
    "if age>=18:\n",
    "    if country==\"Nigeria\":\n",
    "        print(\"You are eligible to vote!\")\n",
    "    else:\n",
    "        print(\"You are not a citizen of Nigeria and not eligible to vote!\")\n",
    "else:\n",
    "    print(\"You are not eligible to vote!\")\n",
    "print (\"Finished Runnng.\")    "
   ]
  },
  {
   "cell_type": "code",
   "execution_count": 19,
   "id": "7f7ca47b-ab4d-46c7-bc15-8fd1e41e6785",
   "metadata": {},
   "outputs": [],
   "source": [
    "#if -elif-else statement"
   ]
  },
  {
   "cell_type": "code",
   "execution_count": 20,
   "id": "02aba5f7-1fa9-4fbb-8864-bf60a793e1b3",
   "metadata": {},
   "outputs": [
    {
     "name": "stdout",
     "output_type": "stream",
     "text": [
      "Equal than 5\n"
     ]
    }
   ],
   "source": [
    "num=5\n",
    "if num==5:\n",
    "   print(\"Equal than 5\")\n",
    "elif num==5:\n",
    "    print(\"Less than 5\")\n",
    "else:\n",
    "    print(\"Greater than 5\")"
   ]
  },
  {
   "cell_type": "code",
   "execution_count": 21,
   "id": "34bfee68-3f94-4c42-b94a-4f34ae7c1481",
   "metadata": {},
   "outputs": [],
   "source": [
    "#Logical operators\n",
    "### and\n",
    "### or\n",
    "### nt"
   ]
  },
  {
   "cell_type": "code",
   "execution_count": 26,
   "id": "b1760889-93cb-4a38-8ba5-b9f5cfe133ed",
   "metadata": {},
   "outputs": [],
   "source": [
    "num1=11\n",
    "num2 =5"
   ]
  },
  {
   "cell_type": "code",
   "execution_count": 27,
   "id": "fc6591b5-f025-4d91-882a-1e0e753fbdad",
   "metadata": {},
   "outputs": [
    {
     "data": {
      "text/plain": [
       "False"
      ]
     },
     "execution_count": 27,
     "metadata": {},
     "output_type": "execute_result"
    }
   ],
   "source": [
    "not True"
   ]
  },
  {
   "cell_type": "code",
   "execution_count": 28,
   "id": "f23dd7e0-55f0-4c39-ada5-90f04e9e35cf",
   "metadata": {},
   "outputs": [
    {
     "data": {
      "text/plain": [
       "True"
      ]
     },
     "execution_count": 28,
     "metadata": {},
     "output_type": "execute_result"
    }
   ],
   "source": [
    "not False"
   ]
  },
  {
   "cell_type": "code",
   "execution_count": 29,
   "id": "17f2d5c2-84aa-42e8-a5f3-bd7f65e2dc31",
   "metadata": {},
   "outputs": [
    {
     "data": {
      "text/plain": [
       "True"
      ]
     },
     "execution_count": 29,
     "metadata": {},
     "output_type": "execute_result"
    }
   ],
   "source": [
    "True and True"
   ]
  },
  {
   "cell_type": "code",
   "execution_count": 30,
   "id": "5e4ee3ab-1266-4de9-98ac-861b45629b46",
   "metadata": {},
   "outputs": [
    {
     "data": {
      "text/plain": [
       "False"
      ]
     },
     "execution_count": 30,
     "metadata": {},
     "output_type": "execute_result"
    }
   ],
   "source": [
    "False and False"
   ]
  },
  {
   "cell_type": "code",
   "execution_count": 31,
   "id": "afbf9f06-1ea4-4291-90ff-6b5fa3135168",
   "metadata": {},
   "outputs": [
    {
     "data": {
      "text/plain": [
       "True"
      ]
     },
     "execution_count": 31,
     "metadata": {},
     "output_type": "execute_result"
    }
   ],
   "source": [
    "False or True"
   ]
  },
  {
   "cell_type": "code",
   "execution_count": 32,
   "id": "7b2a1347-9baa-4698-b20f-7d23fa16e259",
   "metadata": {},
   "outputs": [
    {
     "data": {
      "text/plain": [
       "True"
      ]
     },
     "execution_count": 32,
     "metadata": {},
     "output_type": "execute_result"
    }
   ],
   "source": [
    "True or True"
   ]
  },
  {
   "cell_type": "code",
   "execution_count": 33,
   "id": "64dbff2c-c17f-471d-aade-06f70b50e5a7",
   "metadata": {},
   "outputs": [
    {
     "data": {
      "text/plain": [
       "False"
      ]
     },
     "execution_count": 33,
     "metadata": {},
     "output_type": "execute_result"
    }
   ],
   "source": [
    "False or False"
   ]
  },
  {
   "cell_type": "code",
   "execution_count": 35,
   "id": "8477da6c-a7c6-4fa0-b299-e1e8596669cf",
   "metadata": {},
   "outputs": [
    {
     "data": {
      "text/plain": [
       "True"
      ]
     },
     "execution_count": 35,
     "metadata": {},
     "output_type": "execute_result"
    }
   ],
   "source": [
    "True or False or True"
   ]
  },
  {
   "cell_type": "code",
   "execution_count": 36,
   "id": "6fa69f25-11a2-4b96-bdac-f5f563a9b40a",
   "metadata": {},
   "outputs": [
    {
     "data": {
      "text/plain": [
       "True"
      ]
     },
     "execution_count": 36,
     "metadata": {},
     "output_type": "execute_result"
    }
   ],
   "source": [
    "False or True or False"
   ]
  },
  {
   "cell_type": "code",
   "execution_count": 38,
   "id": "16291386-a35c-4a2a-800d-604514f57202",
   "metadata": {},
   "outputs": [
    {
     "name": "stdin",
     "output_type": "stream",
     "text": [
      "Enter your age:  17\n",
      "Enter your country:  Nigeria\n"
     ]
    },
    {
     "name": "stdout",
     "output_type": "stream",
     "text": [
      "You are eligible to vote!\n"
     ]
    }
   ],
   "source": [
    "age= int(input(\"Enter your age: \"))\n",
    "country= input(\"Enter your country: \")\n",
    "if age>=18 or country== \"Nigeria\":\n",
    "    print(\"You are eligible to vote!\")\n",
    "else:\n",
    "    print(\"You are not eligible to vote!\")\n",
    "   "
   ]
  },
  {
   "cell_type": "code",
   "execution_count": 43,
   "id": "c90f1126-f619-44e3-973e-db6d3e4acf77",
   "metadata": {},
   "outputs": [
    {
     "name": "stdin",
     "output_type": "stream",
     "text": [
      "Enter your student id:  45\n",
      "Enter your first name:  fct\n",
      "Enter your last name:  \n",
      "Enter your gender:  e\n",
      "Enter your mobile number:  434\n",
      "Enter your email address:  rvv\n",
      "Enter your exam score:  424\n"
     ]
    },
    {
     "name": "stdout",
     "output_type": "stream",
     "text": [
      "\n",
      "Student Grade app\n",
      "--------------------\n",
      "\n",
      "Id: 45\n",
      "First name: fct\n",
      "Surname: \n",
      "Gender: e\n",
      "Mobile No.: 434\n",
      "Email Address: rvv\n",
      "Score: 424.0\n",
      "Invalid!\n"
     ]
    }
   ],
   "source": [
    "\n",
    "student_id=int(input(\"Enter your student id: \"))\n",
    "first_name=input(\"Enter your first name: \")\n",
    "last_name=input(\"Enter your last name: \")\n",
    "gender=input(\"Enter your gender: \")\n",
    "mobile=int(input(\"Enter your mobile number: \"))\n",
    "email=input(\"Enter your email address: \")\n",
    "score=float(input(\"Enter your exam score: \"))\n",
    "print()\n",
    "print(\"Student Grade app\")\n",
    "print(\"-\"*20)\n",
    "print()\n",
    "print(f\"Id: {student_id}\")\n",
    "print(f\"First name: {first_name}\")\n",
    "print(f\"Surname: {last_name}\")\n",
    "print(f\"Gender: {gender}\")\n",
    "print(f\"Mobile No.: {mobile}\")\n",
    "print(f\"Email Address: {email}\")\n",
    "print(f\"Score: {score}\")\n",
    "if score>=0 and score<40:\n",
    "    print(\"Grade:F\")\n",
    "elif score >=40 and score<50:\n",
    "    print(\"Grade:E\")\n",
    "elif score>=50 and score<60:\n",
    "    print(\"Grade:D\")\n",
    "elif score>=60 and score<70:\n",
    "    print(\"Grade:C\")\n",
    "elif score>=70 and score<80:\n",
    "    print(\"Grade:B\")\n",
    "elif score>=80 and score<=100:\n",
    "    print(\"Grade:A\")\n",
    "else:\n",
    "    print(\"Invalid!\")"
   ]
  },
  {
   "cell_type": "code",
   "execution_count": 1,
   "id": "c49fa8de-c77c-4e49-9649-d332e1f76cb6",
   "metadata": {},
   "outputs": [
    {
     "ename": "ZeroDivisionError",
     "evalue": "division by zero",
     "output_type": "error",
     "traceback": [
      "\u001b[1;31m---------------------------------------------------------------------------\u001b[0m",
      "\u001b[1;31mZeroDivisionError\u001b[0m                         Traceback (most recent call last)",
      "Cell \u001b[1;32mIn[1], line 1\u001b[0m\n\u001b[1;32m----> 1\u001b[0m \u001b[38;5;241m1\u001b[39m\u001b[38;5;241m/\u001b[39m\u001b[38;5;241m0\u001b[39m\n",
      "\u001b[1;31mZeroDivisionError\u001b[0m: division by zero"
     ]
    }
   ],
   "source": [
    "1/0"
   ]
  },
  {
   "cell_type": "code",
   "execution_count": 2,
   "id": "eca64dfc-27da-4689-973b-04d571ffafdf",
   "metadata": {},
   "outputs": [
    {
     "ename": "_IncompleteInputError",
     "evalue": "incomplete input (1051177009.py, line 1)",
     "output_type": "error",
     "traceback": [
      "\u001b[1;36m  Cell \u001b[1;32mIn[2], line 1\u001b[1;36m\u001b[0m\n\u001b[1;33m    print(123\u001b[0m\n\u001b[1;37m             ^\u001b[0m\n\u001b[1;31m_IncompleteInputError\u001b[0m\u001b[1;31m:\u001b[0m incomplete input\n"
     ]
    }
   ],
   "source": [
    "print(123"
   ]
  },
  {
   "cell_type": "code",
   "execution_count": 3,
   "id": "56f5e8a5-3395-4230-acbd-218bf82078d0",
   "metadata": {},
   "outputs": [
    {
     "ename": "NameError",
     "evalue": "name 'name' is not defined",
     "output_type": "error",
     "traceback": [
      "\u001b[1;31m---------------------------------------------------------------------------\u001b[0m",
      "\u001b[1;31mNameError\u001b[0m                                 Traceback (most recent call last)",
      "Cell \u001b[1;32mIn[3], line 1\u001b[0m\n\u001b[1;32m----> 1\u001b[0m name\n",
      "\u001b[1;31mNameError\u001b[0m: name 'name' is not defined"
     ]
    }
   ],
   "source": [
    "name"
   ]
  },
  {
   "cell_type": "code",
   "execution_count": 4,
   "id": "dd424a94-8721-4658-b120-d5b395fe13f4",
   "metadata": {},
   "outputs": [
    {
     "name": "stdin",
     "output_type": "stream",
     "text": [
      "Enter your exam score:  mike\n"
     ]
    },
    {
     "ename": "ValueError",
     "evalue": "could not convert string to float: 'mike'",
     "output_type": "error",
     "traceback": [
      "\u001b[1;31m---------------------------------------------------------------------------\u001b[0m",
      "\u001b[1;31mValueError\u001b[0m                                Traceback (most recent call last)",
      "Cell \u001b[1;32mIn[4], line 1\u001b[0m\n\u001b[1;32m----> 1\u001b[0m age\u001b[38;5;241m=\u001b[39m\u001b[38;5;28mfloat\u001b[39m(\u001b[38;5;28minput\u001b[39m(\u001b[38;5;124m\"\u001b[39m\u001b[38;5;124mEnter your exam score: \u001b[39m\u001b[38;5;124m\"\u001b[39m))\n\u001b[0;32m      2\u001b[0m age\u001b[38;5;241m=\u001b[39m mike\n",
      "\u001b[1;31mValueError\u001b[0m: could not convert string to float: 'mike'"
     ]
    }
   ],
   "source": [
    "age=float(input(\"Enter your exam score: \"))\n",
    "age= mike"
   ]
  },
  {
   "cell_type": "code",
   "execution_count": 5,
   "id": "3632aa5e-6aec-4c13-8b57-7fd71f950b93",
   "metadata": {},
   "outputs": [
    {
     "ename": "SyntaxError",
     "evalue": "unterminated string literal (detected at line 1) (3514072454.py, line 1)",
     "output_type": "error",
     "traceback": [
      "\u001b[1;36m  Cell \u001b[1;32mIn[5], line 1\u001b[1;36m\u001b[0m\n\u001b[1;33m    score=float(input(\"Enter your exam score: ))\u001b[0m\n\u001b[1;37m                      ^\u001b[0m\n\u001b[1;31mSyntaxError\u001b[0m\u001b[1;31m:\u001b[0m unterminated string literal (detected at line 1)\n"
     ]
    }
   ],
   "source": [
    "score=float(input(\"Enter your exam score: ))"
   ]
  },
  {
   "cell_type": "code",
   "execution_count": 6,
   "id": "f7eeefac-ee9e-4f1e-a5b6-c2631a8ff9bc",
   "metadata": {},
   "outputs": [
    {
     "ename": "SyntaxError",
     "evalue": "unterminated string literal (detected at line 1) (3022738655.py, line 1)",
     "output_type": "error",
     "traceback": [
      "\u001b[1;36m  Cell \u001b[1;32mIn[6], line 1\u001b[1;36m\u001b[0m\n\u001b[1;33m    ryedqe=\"wjdwd\u001b[0m\n\u001b[1;37m           ^\u001b[0m\n\u001b[1;31mSyntaxError\u001b[0m\u001b[1;31m:\u001b[0m unterminated string literal (detected at line 1)\n"
     ]
    }
   ],
   "source": [
    "score=float(input(\"Enter your exam score: \"))"
   ]
  },
  {
   "cell_type": "code",
   "execution_count": 14,
   "id": "e2427c11-67ec-4942-a90b-a010915de373",
   "metadata": {},
   "outputs": [
    {
     "name": "stdin",
     "output_type": "stream",
     "text": [
      "Enter your student id:  aa\n",
      "Enter your first name:  a\n",
      "Enter your last name:  a\n",
      "Enter your gender:  a\n",
      "Enter your mobile number:  \n",
      "Enter your email address:  a\n",
      "Enter your exam score:  \n"
     ]
    },
    {
     "name": "stdout",
     "output_type": "stream",
     "text": [
      "Error could not convert string to float: ''\n",
      "Please, enter a numeric value for score\n",
      "form succesful\n"
     ]
    }
   ],
   "source": [
    "try:\n",
    "    student_id=(input(\"Enter your student id: \"))\n",
    "    first_name=input(\"Enter your first name: \")\n",
    "    last_name=input(\"Enter your last name: \")\n",
    "    gender=input(\"Enter your gender: \")\n",
    "    mobile=input(\"Enter your mobile number: \")\n",
    "    email=input(\"Enter your email address: \")\n",
    "    score=float(input(\"Enter your exam score: \"))\n",
    "    print()\n",
    "    print(\"Student Grade app\")\n",
    "    print(\"-\"*20)\n",
    "    print()\n",
    "    print(f\"Id: {student_id}\")\n",
    "    print(f\"First name: {first_name}\")\n",
    "    print(f\"Surname: {last_name}\")\n",
    "    print(f\"Gender: {gender}\")\n",
    "    print(f\"Mobile No.: {mobile}\")\n",
    "    print(f\"Email Address: {email}\")\n",
    "    print(f\"Score: {score}\")\n",
    "    if score>=0 and score<40:\n",
    "        print(\"Grade:F\")\n",
    "    elif score >=40 and score<50:\n",
    "        print(\"Grade:E\")\n",
    "    elif score>=50 and score<60:\n",
    "        print(\"Grade:D\")\n",
    "    elif score>=60 and score<70:\n",
    "        print(\"Grade:C\")\n",
    "    elif score>=70 and score<80:\n",
    "        print(\"Grade:B\")\n",
    "    elif score>=80 and score<=100:\n",
    "        print(\"Grade:A\")\n",
    "    else:\n",
    "        print(\"Invalid!\")\n",
    "except ValueError as error:\n",
    "    print(\"Error\",error)\n",
    "    print(\"Please, enter a numeric value for score\")\n",
    "except ZeroDivisionError:\n",
    "    print(\"\")\n",
    "finally:\n",
    "    print(\"form succesful\")"
   ]
  },
  {
   "cell_type": "code",
   "execution_count": null,
   "id": "80285fbf-923e-4f01-9ce1-84b5a4b18126",
   "metadata": {},
   "outputs": [],
   "source": [
    "#Simple password authenticator app\n",
    "username= input(\"Enter your username: \")\n",
    "password= input"
   ]
  },
  {
   "cell_type": "markdown",
   "id": "7d4eae9a-08f3-45df-b46d-1dbf50724fc3",
   "metadata": {},
   "source": [
    "# Conditional Execution in Python\n",
    "\n",
    "Conditional execution is a fundamental programming concept that allows your code to make decisions based on certain conditions. In Python, this is primarily done using `if`, `elif` (else if), and `else` statements.\n",
    "\n",
    "## How Conditional Execution Works\n",
    "\n",
    "The basic structure follows this pattern:"
   ]
  },
  {
   "cell_type": "markdown",
   "id": "b3ec9bc1-39d2-44e7-8f5f-1dddf53c913f",
   "metadata": {},
   "source": [
    "if condition:\n",
    "    # code to execute if condition is True\n",
    "elif another_condition:\n",
    "    # code to execute if another_condition is True\n",
    "else:\n",
    "    # code to execute if all conditions above are False"
   ]
  },
  {
   "cell_type": "markdown",
   "id": "0eff9528-1a70-4742-b5c7-c48cefdc5910",
   "metadata": {},
   "source": [
    "\n",
    "Let me explain this with three beginner-friendly examples:\n",
    "\n",
    "## Example 1: Simple Weather Recommendation\n"
   ]
  },
  {
   "cell_type": "code",
   "execution_count": 15,
   "id": "9a1a5653-4104-4b7c-abdf-544f7f893118",
   "metadata": {},
   "outputs": [
    {
     "name": "stdout",
     "output_type": "stream",
     "text": [
      "The weather is pleasant today.\n"
     ]
    },
    {
     "name": "stdin",
     "output_type": "stream",
     "text": [
      "Enter the current temperature in Celsius:  25\n"
     ]
    },
    {
     "name": "stdout",
     "output_type": "stream",
     "text": [
      "The weather is pleasant today.\n"
     ]
    }
   ],
   "source": [
    "temperature = 25  # temperature in Celsius\n",
    "\n",
    "if temperature > 30:\n",
    "    print(\"It's hot! Remember to stay hydrated.\")\n",
    "elif temperature > 20:\n",
    "    print(\"The weather is pleasant today.\")\n",
    "elif temperature > 10:\n",
    "    print(\"It's a bit cool, consider taking a light jacket.\")\n",
    "else:\n",
    "    print(\"It's cold outside. Wear warm clothes!\")\n",
    "\n",
    "# Additional code to demonstrate user input\n",
    "user_temp = float(input(\"Enter the current temperature in Celsius: \"))\n",
    "if user_temp > 30:\n",
    "    print(\"It's hot! Remember to stay hydrated.\")\n",
    "elif user_temp > 20:\n",
    "    print(\"The weather is pleasant today.\")\n",
    "elif user_temp > 10:\n",
    "    print(\"It's a bit cool, consider taking a light jacket.\")\n",
    "else:\n",
    "    print(\"It's cold outside. Wear warm clothes!\")"
   ]
  },
  {
   "cell_type": "markdown",
   "id": "a315f43c-664e-46f7-8416-4f544d9104c1",
   "metadata": {},
   "source": [
    "\n",
    "In this example, the program checks the temperature value and provides appropriate clothing recommendations based on different temperature ranges.\n",
    "\n",
    "## Example 2: Grade Calculator\n",
    "\n",
    "In this example, we determine a letter grade based on a numerical score:\n"
   ]
  },
  {
   "cell_type": "code",
   "execution_count": 16,
   "id": "b4aa5420-aa2a-41e1-a2f3-f16f75109a36",
   "metadata": {},
   "outputs": [
    {
     "name": "stdout",
     "output_type": "stream",
     "text": [
      "Your score is 85, which gives you a grade of B.\n"
     ]
    }
   ],
   "source": [
    "score = 85\n",
    "\n",
    "if score >= 90:\n",
    "    grade = \"A\"\n",
    "elif score >= 80:\n",
    "    grade = \"B\"\n",
    "elif score >= 70:\n",
    "    grade = \"C\"\n",
    "elif score >= 60:\n",
    "    grade = \"D\"\n",
    "else:\n",
    "    grade = \"F\"\n",
    "\n",
    "print(f\"Your score is {score}, which gives you a grade of {grade}.\")"
   ]
  },
  {
   "cell_type": "markdown",
   "id": "97cae23a-f07a-4465-b19a-d482ff67be24",
   "metadata": {},
   "source": [
    "\n",
    "The program checks the score against different thresholds and assigns the appropriate letter grade.\n",
    "\n",
    "## Example 3: User Authentication\n"
   ]
  },
  {
   "cell_type": "code",
   "execution_count": 1,
   "id": "691f5f60-a185-465c-bcff-487e9bf9a2e7",
   "metadata": {},
   "outputs": [
    {
     "name": "stdin",
     "output_type": "stream",
     "text": [
      "Enter your username:  python_learner\n",
      "Enter your password:  secure2\n"
     ]
    },
    {
     "name": "stdout",
     "output_type": "stream",
     "text": [
      "Incorrect password. Please try again.\n"
     ]
    }
   ],
   "source": [
    "username = \"python_learner\"\n",
    "password = \"secure123\"\n",
    "\n",
    "input_username = input(\"Enter your username: \")\n",
    "input_password = input(\"Enter your password: \")\n",
    "\n",
    "if input_username == username and input_password == password:\n",
    "    print(\"Login successful! Welcome back.\")\n",
    "elif input_username == username:\n",
    "    print(\"Incorrect password. Please try again.\")\n",
    "elif input_password == password:\n",
    "    print(\"Username not found. Please check your username.\")\n",
    "else:\n",
    "    print(\"Both username and password are incorrect.\")"
   ]
  },
  {
   "cell_type": "code",
   "execution_count": null,
   "id": "c816fd94-72a5-43a8-8a25-dea2841a3ab1",
   "metadata": {},
   "outputs": [],
   "source": []
  }
 ],
 "metadata": {
  "kernelspec": {
   "display_name": "Python [conda env:base] *",
   "language": "python",
   "name": "conda-base-py"
  },
  "language_info": {
   "codemirror_mode": {
    "name": "ipython",
    "version": 3
   },
   "file_extension": ".py",
   "mimetype": "text/x-python",
   "name": "python",
   "nbconvert_exporter": "python",
   "pygments_lexer": "ipython3",
   "version": "3.13.5"
  }
 },
 "nbformat": 4,
 "nbformat_minor": 5
}
