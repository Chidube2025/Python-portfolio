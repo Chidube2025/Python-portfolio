{
 "cells": [
  {
   "cell_type": "markdown",
   "id": "6ffb8b64-507a-49c5-bf68-8f09af1386e1",
   "metadata": {},
   "source": [
    "# Variables and User Input:\n",
    "\n",
    "1. How do you prompt the user for input in Python, and what data type does input() return?\n",
    "\n",
    "2. Write a Python program that prompts the user for their name and then prints a greeting message.\n",
    "\n",
    "3. How can you check the data type of a variable in Python?\n",
    "\n",
    "4. How would you handle an error if a user enters non-numeric input when you expect a number as input?\n",
    "\n",
    "5. How can you concatenate (combine) two or more strings in Python?\n",
    "\n"
   ]
  },
  {
   "cell_type": "code",
   "execution_count": 1,
   "id": "d6b6f903-2507-45d1-8d1b-7f86b523ab81",
   "metadata": {},
   "outputs": [
    {
     "name": "stdin",
     "output_type": "stream",
     "text": [
      "Enter your email:  Dennis@gmail.com\n"
     ]
    },
    {
     "name": "stdout",
     "output_type": "stream",
     "text": [
      "Dennis@gmail.com\n"
     ]
    }
   ],
   "source": [
    "username = input(\"Enter your email: \")\n",
    "print(username)"
   ]
  },
  {
   "cell_type": "code",
   "execution_count": 2,
   "id": "779e68e9-a154-4464-a9d7-9b87f33f80aa",
   "metadata": {},
   "outputs": [
    {
     "data": {
      "text/plain": [
       "str"
      ]
     },
     "execution_count": 2,
     "metadata": {},
     "output_type": "execute_result"
    }
   ],
   "source": [
    "type(username)"
   ]
  },
  {
   "cell_type": "code",
   "execution_count": 4,
   "id": "032769d7-aaac-4b4b-911b-f0adc610a4ee",
   "metadata": {},
   "outputs": [
    {
     "name": "stdin",
     "output_type": "stream",
     "text": [
      "Enter first number:  3\n",
      "Enter second number:  3\n"
     ]
    },
    {
     "name": "stdout",
     "output_type": "stream",
     "text": [
      "6.0\n"
     ]
    }
   ],
   "source": [
    "num1 = float(input(\"Enter first number: \"))\n",
    "num2 = float(input(\"Enter second number: \"))\n",
    "result = num1 + num2\n",
    "print(result)"
   ]
  },
  {
   "cell_type": "code",
   "execution_count": 6,
   "id": "e3bc96ed-4515-4e0a-89b5-8fbb97e1e3cc",
   "metadata": {},
   "outputs": [
    {
     "name": "stdin",
     "output_type": "stream",
     "text": [
      "Enter your firstname:  Dwasd\n"
     ]
    },
    {
     "name": "stdout",
     "output_type": "stream",
     "text": [
      "Welcome Dwasd.\n"
     ]
    }
   ],
   "source": [
    "first_name = input(\"Enter your firstname: \") \n",
    "print(f\"Welcome {first_name}.\")"
   ]
  },
  {
   "cell_type": "code",
   "execution_count": 7,
   "id": "d0c5d681-82fe-4478-95c5-debc843e2472",
   "metadata": {},
   "outputs": [
    {
     "name": "stdin",
     "output_type": "stream",
     "text": [
      "Enter your firstname:  dennis\n"
     ]
    },
    {
     "name": "stdout",
     "output_type": "stream",
     "text": [
      "Welcome dennis\n"
     ]
    }
   ],
   "source": [
    "first_name = input(\"Enter your firstname: \") \n",
    "print(\"Welcome\", first_name)"
   ]
  },
  {
   "cell_type": "code",
   "execution_count": 8,
   "id": "c5d13e19-07e4-4463-9cad-ced2b0c8e690",
   "metadata": {},
   "outputs": [
    {
     "name": "stdin",
     "output_type": "stream",
     "text": [
      "Enter first number:  as\n"
     ]
    },
    {
     "ename": "ValueError",
     "evalue": "could not convert string to float: 'as'",
     "output_type": "error",
     "traceback": [
      "\u001b[1;31m---------------------------------------------------------------------------\u001b[0m",
      "\u001b[1;31mValueError\u001b[0m                                Traceback (most recent call last)",
      "Cell \u001b[1;32mIn[8], line 1\u001b[0m\n\u001b[1;32m----> 1\u001b[0m num1 \u001b[38;5;241m=\u001b[39m \u001b[38;5;28mfloat\u001b[39m(\u001b[38;5;28minput\u001b[39m(\u001b[38;5;124m\"\u001b[39m\u001b[38;5;124mEnter first number: \u001b[39m\u001b[38;5;124m\"\u001b[39m))\n\u001b[0;32m      2\u001b[0m num2 \u001b[38;5;241m=\u001b[39m \u001b[38;5;28mfloat\u001b[39m(\u001b[38;5;28minput\u001b[39m(\u001b[38;5;124m\"\u001b[39m\u001b[38;5;124mEnter second number: \u001b[39m\u001b[38;5;124m\"\u001b[39m))\n\u001b[0;32m      3\u001b[0m result \u001b[38;5;241m=\u001b[39m num1 \u001b[38;5;241m+\u001b[39m num2\n",
      "\u001b[1;31mValueError\u001b[0m: could not convert string to float: 'as'"
     ]
    }
   ],
   "source": [
    "num1 = float(input(\"Enter first number: \"))\n",
    "num2 = float(input(\"Enter second number: \"))\n",
    "result = num1 + num2\n",
    "print(result)"
   ]
  },
  {
   "cell_type": "code",
   "execution_count": 9,
   "id": "de1039a3-230e-454e-a5d6-9f514dd3f701",
   "metadata": {},
   "outputs": [
    {
     "name": "stdin",
     "output_type": "stream",
     "text": [
      "Enter first number:  a\n"
     ]
    },
    {
     "name": "stdout",
     "output_type": "stream",
     "text": [
      "Error: Please enter valid numbers only.\n"
     ]
    }
   ],
   "source": [
    "\n",
    "# Add error handling to validate numeric input\n",
    "try:\n",
    "    num1 = float(input(\"Enter first number: \"))\n",
    "    num2 = float(input(\"Enter second number: \"))\n",
    "    result = num1 + num2\n",
    "    print(result)\n",
    "except ValueError:\n",
    "    print(\"Error: Please enter valid numbers only.\")\n",
    "    # You could also implement a loop to keep asking until valid input is provided"
   ]
  },
  {
   "cell_type": "code",
   "execution_count": 12,
   "id": "6ce53e24-a51c-4d82-baad-1313afec1213",
   "metadata": {},
   "outputs": [
    {
     "name": "stdout",
     "output_type": "stream",
     "text": [
      "John Michael\n"
     ]
    }
   ],
   "source": [
    "firstname = \"John\"\n",
    "Lastname = \"Michael\"\n",
    "print(firstname + \" \" + Lastname)"
   ]
  },
  {
   "cell_type": "code",
   "execution_count": 13,
   "id": "b076665c-33ab-4c92-bded-9c3e6c6ac4e2",
   "metadata": {},
   "outputs": [
    {
     "name": "stdout",
     "output_type": "stream",
     "text": [
      "John Michael\n"
     ]
    }
   ],
   "source": [
    "firstname = \"John\"\n",
    "Lastname = \"Michael\"\n",
    "print(firstname,Lastname)"
   ]
  },
  {
   "cell_type": "code",
   "execution_count": 14,
   "id": "ddd3dd23-df21-4a93-8b75-0e1d18d232e4",
   "metadata": {},
   "outputs": [
    {
     "name": "stdout",
     "output_type": "stream",
     "text": [
      "John Michael\n"
     ]
    }
   ],
   "source": [
    "firstname = \"John\"\n",
    "Lastname = \"Michael\"\n",
    "print(f\"{firstname} {Lastname}\")"
   ]
  },
  {
   "cell_type": "markdown",
   "id": "f1e9346b-6e1f-4241-951e-f97350cf4035",
   "metadata": {},
   "source": [
    "# Conditional Execution:\n",
    "\n",
    "1. Write a Python program that takes an integer as input and prints \"Even\" if it's an even number and \"Odd\" if it's an odd number.\n",
    "\n",
    "2. Create a Python program that prompts the user for their age. If they are 18 or older, print \"You are eligible to vote.\", else \"You are not eligible to vote.\".\n",
    "\n",
    "3. Create a Python program that calculates the grade for a student based on their exam score. Use the following grading scale: A (70-100), B (60-70), C (50-60), D (45-50), E(40-45), F (0-40).\n",
    "\n",
    "4. Write a Python program that determines if a given number entered by a user is positive, negative, or zero.\n",
    "\n",
    "5. Create a Python program that calculates the discount for a purchase amount based on the following conditions:\n",
    "\n",
    "    If the purchase amount is greater than or equal to 100, apply a 10% discount.\n",
    "    If the purchase amount is greater than or equal to 50, apply a 5% discount.\n",
    "    Otherwise, no discount is applied. Prompt the user for the purchase amount and print the final amount after  applying the discount.\n"
   ]
  },
  {
   "cell_type": "code",
   "execution_count": 10,
   "id": "5d4660af-2a76-4a63-aada-52b56c61d893",
   "metadata": {},
   "outputs": [
    {
     "name": "stdin",
     "output_type": "stream",
     "text": [
      "number:  23\n"
     ]
    },
    {
     "name": "stdout",
     "output_type": "stream",
     "text": [
      "Odd\n"
     ]
    }
   ],
   "source": [
    "# 1.\n",
    "num1 = float(input(\"number: \"))\n",
    "num2 = num1/2\n",
    "if num1 /2 == int(num2):\n",
    "    print(\"Even\")\n",
    "else:\n",
    "    print(\"Odd\")"
   ]
  },
  {
   "cell_type": "code",
   "execution_count": 23,
   "id": "d166400a-7685-44dc-a9ec-ad376e5319ca",
   "metadata": {},
   "outputs": [
    {
     "name": "stdin",
     "output_type": "stream",
     "text": [
      "Enter your age:  19\n"
     ]
    },
    {
     "name": "stdout",
     "output_type": "stream",
     "text": [
      "You are eligible to vote\n"
     ]
    }
   ],
   "source": [
    "# 2.\n",
    "age = input(\"Enter your age: \")\n",
    "if age>=\"18\":\n",
    "    print(\"You are eligible to vote\")\n",
    "else:\n",
    "    print(\"You are not eligible to vote\")"
   ]
  },
  {
   "cell_type": "code",
   "execution_count": 21,
   "id": "764db8b7-54b5-4b7c-bc3e-da23ba4db1d7",
   "metadata": {},
   "outputs": [
    {
     "name": "stdin",
     "output_type": "stream",
     "text": [
      "Enter your age:  19\n"
     ]
    },
    {
     "name": "stdout",
     "output_type": "stream",
     "text": [
      "You are eligible to vote\n"
     ]
    }
   ],
   "source": [
    "# 2.\n",
    "age = int(input(\"Enter your age: \"))\n",
    "if age>=18:\n",
    "    print(\"You are eligible to vote\")\n",
    "else:\n",
    "    print(\"You are not eligible to vote\")"
   ]
  },
  {
   "cell_type": "code",
   "execution_count": 37,
   "id": "ff6e77e1-3089-4dc7-b090-f87eb77acc1c",
   "metadata": {},
   "outputs": [
    {
     "name": "stdin",
     "output_type": "stream",
     "text": [
      "enter your score:  48\n"
     ]
    },
    {
     "name": "stdout",
     "output_type": "stream",
     "text": [
      "Score:48.0 Grade: E\n"
     ]
    }
   ],
   "source": [
    "# 3.\n",
    "score= float(input(\"enter your score: \"))\n",
    "if score>=0 and score<40:\n",
    "    Grade=\"F\"\n",
    "elif score>=40 or score<45:\n",
    "    Grade=\"E\"\n",
    "elif score>=45 or score<50:\n",
    "    Grade=\"D\"\n",
    "elif score>=50 or score<60:\n",
    "    Grade=\"C\"\n",
    "elif score>=60 or score<70:\n",
    "    Grade=\"B\"\n",
    "elif score>=70 or score<=100:\n",
    "    Grade=\"A\"\n",
    "else:\n",
    "    Grade=\"Error!\"\n",
    "print(f\"Score:{score} Grade: {Grade}\")    "
   ]
  },
  {
   "cell_type": "code",
   "execution_count": 40,
   "id": "c4439081-8406-49f6-9ace-51dc6a08ee5e",
   "metadata": {},
   "outputs": [
    {
     "name": "stdin",
     "output_type": "stream",
     "text": [
      "number:  0\n"
     ]
    },
    {
     "name": "stdout",
     "output_type": "stream",
     "text": [
      "Zero\n"
     ]
    }
   ],
   "source": [
    "# 4.\n",
    "num1 = float(input(\"number: \"))\n",
    "if num1 < 0:\n",
    "    print(\"Negative\")\n",
    "elif num1 > 0:\n",
    "    print(\"Positive\")    \n",
    "else:\n",
    "    print(\"Zero\")"
   ]
  },
  {
   "cell_type": "code",
   "execution_count": 45,
   "id": "e3577c05-93d8-48e9-b950-678b756b0b9a",
   "metadata": {},
   "outputs": [
    {
     "name": "stdin",
     "output_type": "stream",
     "text": [
      "enter the amount:  80\n"
     ]
    },
    {
     "name": "stdout",
     "output_type": "stream",
     "text": [
      "Purchase amount: 80.0\n",
      "Discount: 4.0\n",
      "Final amount: 76.0\n"
     ]
    }
   ],
   "source": [
    "# 5.\n",
    "puramt= float(input(\"enter the amount: \"))\n",
    "if puramt>=100:\n",
    "    discount=0.1*puramt\n",
    "elif puramt>=50:\n",
    "    discount=0.05*puramt\n",
    "else:\n",
    "    discount=0\n",
    "fin_amt=puramt-discount\n",
    "print(f\"Purchase amount: {puramt}\")\n",
    "print(f\"Discount: {discount}\")\n",
    "print(f\"Final amount: {fin_amt}\")   "
   ]
  },
  {
   "cell_type": "markdown",
   "id": "fba05202-5109-4b21-85a0-ab2d451bd097",
   "metadata": {},
   "source": [
    "# Functions:\n",
    "\n",
    "1. How do you define a function in Python?\n",
    "\n",
    "2. Write a Python function that calculates the square of a number and returns the result. i.e using ** symbol.\n",
    "\n",
    "3.  What is the difference between a function parameter and an argument.\n",
    "\n",
    "4. Write a Python function called is_even that takes an integer as an argument and returns True if the number is even and False if it's odd.\n",
    "\n",
    "5. Write a Python function is_positive that checks if a given number is positive and returns True if it is and False otherwise.\n",
    "\n",
    "# Loops:\n",
    "\n",
    "1. Write a Python program that uses a for loop to print the numbers from 1 to 10.\n",
    "\n",
    "2. Write a Python program that uses a for loop to find the sum of all numbers from 1 to 100.\n",
    "\n",
    "3. Create a Python program that finds the largest element in a list of numbers using a for loop.\n",
    "\n",
    "4. What is an iteration variable or loop variable in the context of loops. Give an example.\n",
    "\n",
    "5. What is the difference between the break and continue statements in Python.\n"
   ]
  },
  {
   "cell_type": "code",
   "execution_count": 13,
   "id": "af4ca365-765a-4ac2-a569-baa632d547c8",
   "metadata": {},
   "outputs": [],
   "source": [
    "def square_number(num):\n",
    "    return (num**num)\n",
    "\n",
    "my_result = square_number(2)"
   ]
  },
  {
   "cell_type": "code",
   "execution_count": 14,
   "id": "6e96bbb2-ddde-4f65-af88-4d25123dadb2",
   "metadata": {},
   "outputs": [
    {
     "data": {
      "text/plain": [
       "4"
      ]
     },
     "execution_count": 14,
     "metadata": {},
     "output_type": "execute_result"
    }
   ],
   "source": [
    "my_result"
   ]
  },
  {
   "cell_type": "code",
   "execution_count": 17,
   "id": "ba0c5cdb-36bb-46c8-b749-a95cf6ee6184",
   "metadata": {},
   "outputs": [
    {
     "name": "stdin",
     "output_type": "stream",
     "text": [
      "Enter a number:  2\n"
     ]
    },
    {
     "data": {
      "text/plain": [
       "4"
      ]
     },
     "execution_count": 17,
     "metadata": {},
     "output_type": "execute_result"
    }
   ],
   "source": [
    "def square_number():\n",
    "    num=int(input(\"Enter a number: \"))\n",
    "    return (num**num)\n",
    "square_number()    "
   ]
  },
  {
   "cell_type": "code",
   "execution_count": 19,
   "id": "39713d0a-17af-4bf4-9811-b3563d574ca0",
   "metadata": {},
   "outputs": [
    {
     "name": "stdout",
     "output_type": "stream",
     "text": [
      "Odd\n"
     ]
    }
   ],
   "source": [
    "def is_even(num):\n",
    "    if num % 2 == 0:\n",
    "        print(\"Even\")\n",
    "    else:\n",
    "        print(\"Odd\")\n",
    "\n",
    "is_even(5)        "
   ]
  },
  {
   "cell_type": "code",
   "execution_count": 21,
   "id": "3e2cd730-c333-46ff-b670-b0c0d5a0047e",
   "metadata": {},
   "outputs": [
    {
     "data": {
      "text/plain": [
       "'True'"
      ]
     },
     "execution_count": 21,
     "metadata": {},
     "output_type": "execute_result"
    }
   ],
   "source": [
    "def is_positive(num):\n",
    "    if num >= 0:\n",
    "        return \"True\"\n",
    "    else:\n",
    "        return \"False\"\n",
    "\n",
    "is_positive(5)"
   ]
  },
  {
   "cell_type": "code",
   "execution_count": 24,
   "id": "9d5258c0-b196-4bd2-81ec-fd57ebac8674",
   "metadata": {},
   "outputs": [
    {
     "name": "stdout",
     "output_type": "stream",
     "text": [
      "1\n",
      "2\n",
      "3\n",
      "4\n",
      "5\n",
      "6\n",
      "7\n",
      "8\n",
      "9\n"
     ]
    }
   ],
   "source": [
    "for i in range(1,10):\n",
    "    print(i)"
   ]
  },
  {
   "cell_type": "code",
   "execution_count": 26,
   "id": "e208bc49-a9ae-4888-b073-d7fcbeb4908e",
   "metadata": {},
   "outputs": [
    {
     "name": "stdout",
     "output_type": "stream",
     "text": [
      "50.5\n"
     ]
    }
   ],
   "source": [
    "total = 0\n",
    "count=0\n",
    "for i in range(1,101):\n",
    "    total = total + i\n",
    "    count=count + 1\n",
    "print(total/count)    "
   ]
  },
  {
   "cell_type": "code",
   "execution_count": 27,
   "id": "f5f331f3-1de7-478f-83ea-43d3883912c9",
   "metadata": {},
   "outputs": [
    {
     "name": "stdout",
     "output_type": "stream",
     "text": [
      "299\n"
     ]
    }
   ],
   "source": [
    "nums = [1,45,82,3,56,98,299,49,78,45]\n",
    "max_number = 0\n",
    "for i in nums:\n",
    "    if i > max_number:\n",
    "        max_number = i\n",
    "\n",
    "print(max_number)        "
   ]
  },
  {
   "cell_type": "code",
   "execution_count": 29,
   "id": "ac20c381-7a97-4264-818e-b79776e58987",
   "metadata": {},
   "outputs": [
    {
     "name": "stdin",
     "output_type": "stream",
     "text": [
      "Enter your username:  John\n",
      "Enter your password:  2934\n"
     ]
    },
    {
     "name": "stdout",
     "output_type": "stream",
     "text": [
      "login sussesful!\n"
     ]
    }
   ],
   "source": [
    "while True:\n",
    "    username = input(\"Enter your username: \").lower()\n",
    "    password = input(\"Enter your password: \")\n",
    "    if username == \"john\" and password == \"2934\":\n",
    "        print(\"login sussesful!\")\n",
    "        break\n",
    "    else:\n",
    "        continue"
   ]
  },
  {
   "cell_type": "markdown",
   "id": "c5d02931-9868-41e2-b2ea-58a8904a99d5",
   "metadata": {},
   "source": [
    "# Lists:\n",
    "\n",
    "1. How do you add an element to the end of a list in Python?\n",
    "\n",
    "2. Write a Python program that takes a list of numbers as input and returns the sum of all the numbers in the list using the sum function.\n",
    "\n",
    "3. How do you check if an element exists in a list in Python?\n",
    "\n",
    "4. Create a Python program that takes a list of 10 elements and prints the first five elements using list slicing.\n",
    "\n",
    "5. Create a Python program that takes a list of 7 numbers, replaces the third element with a new value, and prints the modified list."
   ]
  },
  {
   "cell_type": "code",
   "execution_count": 4,
   "id": "cfbf4442-f3b2-4397-bc28-f73b04a0c154",
   "metadata": {},
   "outputs": [],
   "source": [
    "num=[1,2,3,4]"
   ]
  },
  {
   "cell_type": "code",
   "execution_count": 5,
   "id": "f340df78-f4b5-46f1-8dea-b9498c5266d0",
   "metadata": {},
   "outputs": [
    {
     "name": "stdout",
     "output_type": "stream",
     "text": [
      "[1, 2, 3, 4, 5]\n"
     ]
    }
   ],
   "source": [
    "num.append(5)\n",
    "print(num)"
   ]
  },
  {
   "cell_type": "code",
   "execution_count": 6,
   "id": "047f5f3c-c06f-4f66-9687-cdd2cb6c185d",
   "metadata": {},
   "outputs": [],
   "source": [
    "num=[1,2,3,4,5]"
   ]
  },
  {
   "cell_type": "code",
   "execution_count": 7,
   "id": "8be2b9f8-c93f-47a9-9376-28d763268a17",
   "metadata": {},
   "outputs": [
    {
     "data": {
      "text/plain": [
       "15"
      ]
     },
     "execution_count": 7,
     "metadata": {},
     "output_type": "execute_result"
    }
   ],
   "source": [
    "sum(num)"
   ]
  },
  {
   "cell_type": "code",
   "execution_count": 12,
   "id": "2903fe5f-0f98-44f5-826f-de9fd35fb1d0",
   "metadata": {},
   "outputs": [
    {
     "data": {
      "text/plain": [
       "15"
      ]
     },
     "execution_count": 12,
     "metadata": {},
     "output_type": "execute_result"
    }
   ],
   "source": [
    "nums=[1,2,3,4,5]\n",
    "\n",
    "def add_numbers(nums):\n",
    "    total = 0\n",
    "    for i in nums:\n",
    "        total = total + i\n",
    "    return total\n",
    "\n",
    "add_numbers(nums)    "
   ]
  },
  {
   "cell_type": "code",
   "execution_count": 13,
   "id": "da238bee-5981-48ff-b3db-004e985db093",
   "metadata": {},
   "outputs": [
    {
     "data": {
      "text/plain": [
       "True"
      ]
     },
     "execution_count": 13,
     "metadata": {},
     "output_type": "execute_result"
    }
   ],
   "source": [
    "5 in nums"
   ]
  },
  {
   "cell_type": "code",
   "execution_count": 14,
   "id": "a1b05773-179d-447c-869b-2959618a109f",
   "metadata": {},
   "outputs": [
    {
     "data": {
      "text/plain": [
       "False"
      ]
     },
     "execution_count": 14,
     "metadata": {},
     "output_type": "execute_result"
    }
   ],
   "source": [
    "10 in nums "
   ]
  },
  {
   "cell_type": "code",
   "execution_count": 15,
   "id": "c2721975-9558-433c-bda0-ba395c86a251",
   "metadata": {},
   "outputs": [
    {
     "data": {
      "text/plain": [
       "False"
      ]
     },
     "execution_count": 15,
     "metadata": {},
     "output_type": "execute_result"
    }
   ],
   "source": [
    "5 not in nums"
   ]
  },
  {
   "cell_type": "code",
   "execution_count": 18,
   "id": "00893f9c-9045-4661-bc66-bbe8d22d7b4a",
   "metadata": {},
   "outputs": [
    {
     "data": {
      "text/plain": [
       "[1, 2, 3, 4, 5]"
      ]
     },
     "execution_count": 18,
     "metadata": {},
     "output_type": "execute_result"
    }
   ],
   "source": [
    "nums=[1,2,3,4,5,6,7,8,9,10]\n",
    "nums[:5]"
   ]
  },
  {
   "cell_type": "code",
   "execution_count": 20,
   "id": "00a2dfa7-eb42-4299-8092-786d7270e1aa",
   "metadata": {},
   "outputs": [
    {
     "data": {
      "text/plain": [
       "[1, 2, 100, 4, 5, 6, 7]"
      ]
     },
     "execution_count": 20,
     "metadata": {},
     "output_type": "execute_result"
    }
   ],
   "source": [
    "nums=[1,2,3,4,5,6,7]\n",
    "nums[2]=100\n",
    "nums"
   ]
  },
  {
   "cell_type": "markdown",
   "id": "0edde3fe-e3b6-45cf-9682-980a7c358ce4",
   "metadata": {},
   "source": [
    "# Dictionaries:\n",
    "\n",
    "1. Name a difference between a list and dictionary.\n",
    "\n",
    "2. What is the difference between keys() and values() methods of a dictionary in Python.\n",
    "\n",
    "3. Write a Python program that creates an empty dictionary called person and then adds the keys \"name\" and \"age\" with corresponding values to represent a person's information.\n",
    "\n",
    "4. Write a Python program that creates a dictionary named student with keys \"name\" and \"age\" and assigns values to them. Then print the dictionary.\n",
    "\n",
    "5. Create a Python program that accesses and prints the value associated with the key \"age\" in the student dictionary from the previous question."
   ]
  },
  {
   "cell_type": "code",
   "execution_count": 21,
   "id": "d7bd06fe-68e8-49b5-b2ad-1a84284ccec1",
   "metadata": {},
   "outputs": [],
   "source": [
    "# 1. list is ordered . Dictionary is unordered\n",
    "# mutability-changeable"
   ]
  },
  {
   "cell_type": "code",
   "execution_count": 22,
   "id": "a871574f-039e-481e-9856-4033f3afd6bd",
   "metadata": {},
   "outputs": [],
   "source": [
    "# 3\n",
    "person={\"name\":\"john\",\"age\":35}"
   ]
  },
  {
   "cell_type": "code",
   "execution_count": 23,
   "id": "082e99ea-2a05-4519-82e6-bbd79baa3ca7",
   "metadata": {},
   "outputs": [
    {
     "data": {
      "text/plain": [
       "{'name': 'john', 'age': 35}"
      ]
     },
     "execution_count": 23,
     "metadata": {},
     "output_type": "execute_result"
    }
   ],
   "source": [
    "person"
   ]
  },
  {
   "cell_type": "code",
   "execution_count": 24,
   "id": "5470eee8-8aa2-4957-b761-1f84b01ff680",
   "metadata": {},
   "outputs": [
    {
     "data": {
      "text/plain": [
       "dict"
      ]
     },
     "execution_count": 24,
     "metadata": {},
     "output_type": "execute_result"
    }
   ],
   "source": [
    "type(person)"
   ]
  },
  {
   "cell_type": "code",
   "execution_count": 25,
   "id": "014ee998-b4cd-42d6-b6d9-febc5d06a7d8",
   "metadata": {},
   "outputs": [
    {
     "data": {
      "text/plain": [
       "35"
      ]
     },
     "execution_count": 25,
     "metadata": {},
     "output_type": "execute_result"
    }
   ],
   "source": [
    "person[\"age\"]"
   ]
  },
  {
   "cell_type": "markdown",
   "id": "e172ee4a-2825-4194-ba80-b6df4b75573f",
   "metadata": {},
   "source": [
    "## Tuples:\n",
    "\n",
    "1. How do you create an empty tuple. And how is a tuple different from a list?\n",
    "\n",
    "2. Can you add or remove elements from a tuple after it's created?\n",
    "\n",
    "3. How do you access elements in a tuple in Python?\n",
    "\n",
    "4. Write a Python program that creates a tuple named colors containing the names of five different colors and prints the tuple.\n",
    "\n",
    "5. Create a Python program that accesses and prints the second element from the colors tuple created in the previous question.\n"
   ]
  },
  {
   "cell_type": "code",
   "execution_count": 1,
   "id": "8beea4d1-d66e-4df2-bef3-8c0123806d4d",
   "metadata": {},
   "outputs": [],
   "source": [
    "my_tuple1 = ()\n",
    "my_tuple2 = tuple()"
   ]
  },
  {
   "cell_type": "code",
   "execution_count": 2,
   "id": "f5e76983-9d1a-45cb-ae48-4d2366a3f62e",
   "metadata": {},
   "outputs": [
    {
     "name": "stdout",
     "output_type": "stream",
     "text": [
      "<class 'tuple'>\n",
      "<class 'tuple'>\n"
     ]
    }
   ],
   "source": [
    "print(type(my_tuple1))\n",
    "print(type(my_tuple2))"
   ]
  },
  {
   "cell_type": "code",
   "execution_count": 3,
   "id": "0f0301ca-cf85-45da-b3bb-e10c0ea86be6",
   "metadata": {},
   "outputs": [],
   "source": [
    "my_tuple = (1,2,3,4,5)"
   ]
  },
  {
   "cell_type": "code",
   "execution_count": 4,
   "id": "3511e688-11fd-4272-b695-8ce8f55deb3d",
   "metadata": {},
   "outputs": [
    {
     "ename": "TypeError",
     "evalue": "'tuple' object does not support item assignment",
     "output_type": "error",
     "traceback": [
      "\u001b[1;31m---------------------------------------------------------------------------\u001b[0m",
      "\u001b[1;31mTypeError\u001b[0m                                 Traceback (most recent call last)",
      "Cell \u001b[1;32mIn[4], line 1\u001b[0m\n\u001b[1;32m----> 1\u001b[0m my_tuple[\u001b[38;5;241m0\u001b[39m] \u001b[38;5;241m=\u001b[39m \u001b[38;5;241m6\u001b[39m\n",
      "\u001b[1;31mTypeError\u001b[0m: 'tuple' object does not support item assignment"
     ]
    }
   ],
   "source": [
    "my_tuple[0] = 6 "
   ]
  },
  {
   "cell_type": "code",
   "execution_count": 6,
   "id": "163d92ad-ace7-45f8-89d1-2013bc66a0de",
   "metadata": {},
   "outputs": [
    {
     "name": "stdout",
     "output_type": "stream",
     "text": [
      "2\n"
     ]
    }
   ],
   "source": [
    "print(my_tuple[-4])"
   ]
  },
  {
   "cell_type": "code",
   "execution_count": 8,
   "id": "7ec321e2-f43c-4b12-94eb-b7eba8d78b46",
   "metadata": {},
   "outputs": [],
   "source": [
    "colours = (\"Red\", \"Purple\", \"Green\", \"Yellow\", \"Orange\")"
   ]
  },
  {
   "cell_type": "code",
   "execution_count": 9,
   "id": "1967fb4a-6c51-4c80-8477-b37f846ff20c",
   "metadata": {},
   "outputs": [
    {
     "data": {
      "text/plain": [
       "('Red', 'Purple', 'Green', 'Yellow', 'Orange')"
      ]
     },
     "execution_count": 9,
     "metadata": {},
     "output_type": "execute_result"
    }
   ],
   "source": [
    "colours"
   ]
  },
  {
   "cell_type": "code",
   "execution_count": 11,
   "id": "a8d5535d-2ce5-4b0b-b8f8-aa447380d124",
   "metadata": {},
   "outputs": [
    {
     "data": {
      "text/plain": [
       "'Purple'"
      ]
     },
     "execution_count": 11,
     "metadata": {},
     "output_type": "execute_result"
    }
   ],
   "source": [
    "colours[1]"
   ]
  },
  {
   "cell_type": "markdown",
   "id": "a98585dc-f753-4e81-a2c4-9285fde9e39c",
   "metadata": {},
   "source": [
    "## Sets:\n",
    "\n",
    "1.Create a set named 'my_set' with the elements 1, 2, 3, 4, 5. \n",
    "\n",
    "2. Add 6 as an element to the set and print the new set.\n",
    "\n",
    "3. Remove the element 3 from the set and print the new set.\n",
    "\n",
    "4. Write a loop to iterate over the elements of the updated set from Question 3 and print each element. \n",
    "\n",
    "5. Update the set from Question 3 by adding the elements 7, 8, and 9. \n",
    "\n",
    "6.  Check if 4 is present in the set.\n",
    "\n",
    "7. Clear all elements from the set and print the empty set.\n",
    "\n",
    "8. Given two sets set1 = {1, 2, 3, 4, 5} and set2 = {3, 4, 5, 6, 7}, \n",
    "perform the following set operations and assign the results to the specified variables:\n",
    "Assign the union of set1 and set2 to 'union_set'. \n",
    "Assign the intersection of set1 and set2 to 'intersection_set'. \n",
    " Assign the set difference of set1 and set2 to 'difference_set'. \n"
   ]
  },
  {
   "cell_type": "code",
   "execution_count": 12,
   "id": "c2e92200-a36a-4c63-9707-fdacbacc2785",
   "metadata": {},
   "outputs": [],
   "source": [
    "my_set = {1,2,3,4,5}"
   ]
  },
  {
   "cell_type": "code",
   "execution_count": 13,
   "id": "2abb3eb9-2690-4806-9832-d8154d3b45a5",
   "metadata": {},
   "outputs": [
    {
     "name": "stdout",
     "output_type": "stream",
     "text": [
      "<class 'set'>\n"
     ]
    }
   ],
   "source": [
    "print(type(my_set))"
   ]
  },
  {
   "cell_type": "code",
   "execution_count": 14,
   "id": "38abdc97-2e1f-450b-9da5-e14b4773171a",
   "metadata": {},
   "outputs": [
    {
     "data": {
      "text/plain": [
       "['__and__',\n",
       " '__class__',\n",
       " '__class_getitem__',\n",
       " '__contains__',\n",
       " '__delattr__',\n",
       " '__dir__',\n",
       " '__doc__',\n",
       " '__eq__',\n",
       " '__format__',\n",
       " '__ge__',\n",
       " '__getattribute__',\n",
       " '__getstate__',\n",
       " '__gt__',\n",
       " '__hash__',\n",
       " '__iand__',\n",
       " '__init__',\n",
       " '__init_subclass__',\n",
       " '__ior__',\n",
       " '__isub__',\n",
       " '__iter__',\n",
       " '__ixor__',\n",
       " '__le__',\n",
       " '__len__',\n",
       " '__lt__',\n",
       " '__ne__',\n",
       " '__new__',\n",
       " '__or__',\n",
       " '__rand__',\n",
       " '__reduce__',\n",
       " '__reduce_ex__',\n",
       " '__repr__',\n",
       " '__ror__',\n",
       " '__rsub__',\n",
       " '__rxor__',\n",
       " '__setattr__',\n",
       " '__sizeof__',\n",
       " '__str__',\n",
       " '__sub__',\n",
       " '__subclasshook__',\n",
       " '__xor__',\n",
       " 'add',\n",
       " 'clear',\n",
       " 'copy',\n",
       " 'difference',\n",
       " 'difference_update',\n",
       " 'discard',\n",
       " 'intersection',\n",
       " 'intersection_update',\n",
       " 'isdisjoint',\n",
       " 'issubset',\n",
       " 'issuperset',\n",
       " 'pop',\n",
       " 'remove',\n",
       " 'symmetric_difference',\n",
       " 'symmetric_difference_update',\n",
       " 'union',\n",
       " 'update']"
      ]
     },
     "execution_count": 14,
     "metadata": {},
     "output_type": "execute_result"
    }
   ],
   "source": [
    "dir(my_set)"
   ]
  },
  {
   "cell_type": "code",
   "execution_count": 16,
   "id": "a36bdfcd-5be8-4b90-aeaa-052e18a6d276",
   "metadata": {},
   "outputs": [
    {
     "data": {
      "text/plain": [
       "\u001b[1;31mSignature:\u001b[0m \u001b[0mmy_set\u001b[0m\u001b[1;33m.\u001b[0m\u001b[0madd\u001b[0m\u001b[1;33m(\u001b[0m\u001b[0mobject\u001b[0m\u001b[1;33m,\u001b[0m \u001b[1;33m/\u001b[0m\u001b[1;33m)\u001b[0m\u001b[1;33m\u001b[0m\u001b[1;33m\u001b[0m\u001b[0m\n",
       "\u001b[1;31mDocstring:\u001b[0m\n",
       "Add an element to a set.\n",
       "\n",
       "This has no effect if the element is already present.\n",
       "\u001b[1;31mType:\u001b[0m      builtin_function_or_method"
      ]
     },
     "metadata": {},
     "output_type": "display_data"
    }
   ],
   "source": [
    "my_set.add?"
   ]
  },
  {
   "cell_type": "code",
   "execution_count": 17,
   "id": "ef1cbf9d-f48e-49dc-96fb-adbeab6a9ad3",
   "metadata": {},
   "outputs": [],
   "source": [
    "my_set.add(6)"
   ]
  },
  {
   "cell_type": "code",
   "execution_count": 18,
   "id": "11951ea4-f2f7-46d1-beff-dc519fd6a14d",
   "metadata": {},
   "outputs": [
    {
     "data": {
      "text/plain": [
       "{1, 2, 3, 4, 5, 6}"
      ]
     },
     "execution_count": 18,
     "metadata": {},
     "output_type": "execute_result"
    }
   ],
   "source": [
    "my_set"
   ]
  },
  {
   "cell_type": "code",
   "execution_count": 19,
   "id": "dc2eb86b-d1d9-432b-990f-7f1f905a45cf",
   "metadata": {},
   "outputs": [
    {
     "data": {
      "text/plain": [
       "\u001b[1;31mSignature:\u001b[0m \u001b[0mmy_set\u001b[0m\u001b[1;33m.\u001b[0m\u001b[0mremove\u001b[0m\u001b[1;33m(\u001b[0m\u001b[0mobject\u001b[0m\u001b[1;33m,\u001b[0m \u001b[1;33m/\u001b[0m\u001b[1;33m)\u001b[0m\u001b[1;33m\u001b[0m\u001b[1;33m\u001b[0m\u001b[0m\n",
       "\u001b[1;31mDocstring:\u001b[0m\n",
       "Remove an element from a set; it must be a member.\n",
       "\n",
       "If the element is not a member, raise a KeyError.\n",
       "\u001b[1;31mType:\u001b[0m      builtin_function_or_method"
      ]
     },
     "metadata": {},
     "output_type": "display_data"
    }
   ],
   "source": [
    "my_set.remove?"
   ]
  },
  {
   "cell_type": "code",
   "execution_count": 23,
   "id": "8e218099-69fd-43b0-8eaf-9a5030a122fa",
   "metadata": {},
   "outputs": [
    {
     "ename": "KeyError",
     "evalue": "3",
     "output_type": "error",
     "traceback": [
      "\u001b[1;31m---------------------------------------------------------------------------\u001b[0m",
      "\u001b[1;31mKeyError\u001b[0m                                  Traceback (most recent call last)",
      "Cell \u001b[1;32mIn[23], line 1\u001b[0m\n\u001b[1;32m----> 1\u001b[0m my_set\u001b[38;5;241m.\u001b[39mremove(\u001b[38;5;241m3\u001b[39m)\n",
      "\u001b[1;31mKeyError\u001b[0m: 3"
     ]
    }
   ],
   "source": [
    "my_set.remove(3)"
   ]
  },
  {
   "cell_type": "code",
   "execution_count": 21,
   "id": "8de65466-5033-445a-aa00-9128c3d498e3",
   "metadata": {},
   "outputs": [
    {
     "data": {
      "text/plain": [
       "{1, 2, 4, 5, 6}"
      ]
     },
     "execution_count": 21,
     "metadata": {},
     "output_type": "execute_result"
    }
   ],
   "source": [
    "my_set"
   ]
  },
  {
   "cell_type": "code",
   "execution_count": 25,
   "id": "456c2bc3-379e-449a-977f-182a0f35741e",
   "metadata": {},
   "outputs": [
    {
     "name": "stdout",
     "output_type": "stream",
     "text": [
      "1\n",
      "2\n",
      "4\n",
      "5\n",
      "6\n"
     ]
    }
   ],
   "source": [
    "for i in my_set:\n",
    "    print(i)"
   ]
  },
  {
   "cell_type": "code",
   "execution_count": 26,
   "id": "cad29994-1412-477a-86d0-9e586c78cbde",
   "metadata": {},
   "outputs": [
    {
     "data": {
      "text/plain": [
       "\u001b[1;31mSignature:\u001b[0m \u001b[0mmy_set\u001b[0m\u001b[1;33m.\u001b[0m\u001b[0mupdate\u001b[0m\u001b[1;33m(\u001b[0m\u001b[1;33m*\u001b[0m\u001b[0mothers\u001b[0m\u001b[1;33m)\u001b[0m\u001b[1;33m\u001b[0m\u001b[1;33m\u001b[0m\u001b[0m\n",
       "\u001b[1;31mDocstring:\u001b[0m Update the set, adding elements from all others.\n",
       "\u001b[1;31mType:\u001b[0m      builtin_function_or_method"
      ]
     },
     "metadata": {},
     "output_type": "display_data"
    }
   ],
   "source": [
    "my_set.update?"
   ]
  },
  {
   "cell_type": "code",
   "execution_count": 27,
   "id": "a5c4dc3d-b657-431d-918e-7654310a1115",
   "metadata": {},
   "outputs": [],
   "source": [
    "my_set.update({7,8,9})"
   ]
  },
  {
   "cell_type": "code",
   "execution_count": 28,
   "id": "acd87947-3a1e-4750-9a99-c69cd4fbf965",
   "metadata": {},
   "outputs": [
    {
     "data": {
      "text/plain": [
       "{1, 2, 4, 5, 6, 7, 8, 9}"
      ]
     },
     "execution_count": 28,
     "metadata": {},
     "output_type": "execute_result"
    }
   ],
   "source": [
    "my_set"
   ]
  },
  {
   "cell_type": "code",
   "execution_count": 29,
   "id": "5ca6aa82-b1bc-476b-a107-36e9c5cc106c",
   "metadata": {},
   "outputs": [
    {
     "data": {
      "text/plain": [
       "True"
      ]
     },
     "execution_count": 29,
     "metadata": {},
     "output_type": "execute_result"
    }
   ],
   "source": [
    "4 in my_set"
   ]
  },
  {
   "cell_type": "code",
   "execution_count": 30,
   "id": "be9c73d1-59da-4a88-8d84-0a85164c25ff",
   "metadata": {},
   "outputs": [
    {
     "data": {
      "text/plain": [
       "False"
      ]
     },
     "execution_count": 30,
     "metadata": {},
     "output_type": "execute_result"
    }
   ],
   "source": [
    "4 not in my_set"
   ]
  },
  {
   "cell_type": "code",
   "execution_count": 32,
   "id": "c7668ab3-69bc-40de-b4c4-01ec12b1f3cb",
   "metadata": {},
   "outputs": [],
   "source": [
    "my_set.clear()"
   ]
  },
  {
   "cell_type": "code",
   "execution_count": 33,
   "id": "eab0ff80-ee1c-4c6d-b06a-01464953fed0",
   "metadata": {},
   "outputs": [
    {
     "data": {
      "text/plain": [
       "set()"
      ]
     },
     "execution_count": 33,
     "metadata": {},
     "output_type": "execute_result"
    }
   ],
   "source": [
    "my_set"
   ]
  },
  {
   "cell_type": "markdown",
   "id": "6ac6f622-af07-4397-89e5-903482845138",
   "metadata": {},
   "source": [
    "8.Given two sets set1 = {1, 2, 3, 4, 5} and set2 = {3, 4, 5, 6, 7}, perform the following set operations and assign the results to the specified variables: Assign the union of set1 and set2 to 'union_set'. Assign the intersection of set1 and set2 to 'intersection_set'. Assign the set difference of set1 and set2 to 'difference_set'."
   ]
  },
  {
   "cell_type": "code",
   "execution_count": 34,
   "id": "cb1dc5ed-4090-427e-b710-524c1e9811c9",
   "metadata": {},
   "outputs": [],
   "source": [
    "set1 = {1, 2, 3, 4, 5}\n",
    "set2 = {3, 4, 5, 6, 7}"
   ]
  },
  {
   "cell_type": "code",
   "execution_count": 35,
   "id": "4ce068c0-c9cc-4dbf-a70e-e6f390f88f75",
   "metadata": {},
   "outputs": [],
   "source": [
    "union_set= set1.union(set2)"
   ]
  },
  {
   "cell_type": "code",
   "execution_count": 36,
   "id": "e8736f51-5ebd-41ca-afd9-952566aa604b",
   "metadata": {},
   "outputs": [
    {
     "data": {
      "text/plain": [
       "{1, 2, 3, 4, 5, 6, 7}"
      ]
     },
     "execution_count": 36,
     "metadata": {},
     "output_type": "execute_result"
    }
   ],
   "source": [
    "union_set"
   ]
  },
  {
   "cell_type": "code",
   "execution_count": 37,
   "id": "55281f17-db7f-4c21-b7a8-07aedcead16e",
   "metadata": {},
   "outputs": [],
   "source": [
    "intersection_set = set1.intersection(set2)"
   ]
  },
  {
   "cell_type": "code",
   "execution_count": 38,
   "id": "ba6f4cb3-791b-4bd4-88f0-e73e0a300bff",
   "metadata": {},
   "outputs": [
    {
     "data": {
      "text/plain": [
       "{3, 4, 5}"
      ]
     },
     "execution_count": 38,
     "metadata": {},
     "output_type": "execute_result"
    }
   ],
   "source": [
    "intersection_set"
   ]
  },
  {
   "cell_type": "markdown",
   "id": "0874842c-62de-4f29-a3a8-3cfd9c37f7b6",
   "metadata": {},
   "source": [
    "\n",
    "## Object-Oriented Programming/Classes:\n",
    "\n",
    "1. Create a simple class in Python representing a \"Person\" with attributes name and age.\n",
    "\n",
    "2. Create a class representing a basic calculator with add and subtract methods.\n",
    "\n",
    "3. What is the difference between a method and a function in Python?\n",
    "\n",
    "4. Create a class representing a \"Dog\" with a method to bark “Woof”.\n",
    "\n",
    "5. What is an instance variable in Python?"
   ]
  },
  {
   "cell_type": "code",
   "execution_count": 39,
   "id": "84e6116e-f405-4a16-8bf0-b4785108c49d",
   "metadata": {},
   "outputs": [],
   "source": [
    "class Person:\n",
    "    name = \"\"\n",
    "    age = 0"
   ]
  },
  {
   "cell_type": "code",
   "execution_count": 44,
   "id": "973f2185-0aaa-4f96-a59c-3b295d2f324d",
   "metadata": {},
   "outputs": [],
   "source": [
    "person1 = Person()"
   ]
  },
  {
   "cell_type": "code",
   "execution_count": 50,
   "id": "b04e9535-1581-440b-80a5-4c4eaa050302",
   "metadata": {},
   "outputs": [],
   "source": [
    "person1.name = \"john\"\n",
    "person1.age = 30"
   ]
  },
  {
   "cell_type": "code",
   "execution_count": 51,
   "id": "dfd1804f-6b2b-4bfb-9a01-f45adf9d87e5",
   "metadata": {},
   "outputs": [],
   "source": [
    "class Person:\n",
    "   def __init__(self,name,age):\n",
    "       self.name = name\n",
    "       self.age = age\n",
    "    "
   ]
  },
  {
   "cell_type": "code",
   "execution_count": 52,
   "id": "8d84d002-1a44-44cc-8d94-1c409818cb01",
   "metadata": {},
   "outputs": [],
   "source": [
    "person1 = Person(\"john\",30)"
   ]
  },
  {
   "cell_type": "code",
   "execution_count": 54,
   "id": "1bda7f78-782a-40a0-af07-8f061c2de5c5",
   "metadata": {},
   "outputs": [
    {
     "data": {
      "text/plain": [
       "'john'"
      ]
     },
     "execution_count": 54,
     "metadata": {},
     "output_type": "execute_result"
    }
   ],
   "source": [
    "person1.name"
   ]
  },
  {
   "cell_type": "code",
   "execution_count": 55,
   "id": "bbc12879-5b9f-4225-a83f-7515a24249e3",
   "metadata": {},
   "outputs": [
    {
     "data": {
      "text/plain": [
       "30"
      ]
     },
     "execution_count": 55,
     "metadata": {},
     "output_type": "execute_result"
    }
   ],
   "source": [
    "person1.age"
   ]
  },
  {
   "cell_type": "code",
   "execution_count": 59,
   "id": "d438e46d-461a-41a6-baa7-931281062955",
   "metadata": {},
   "outputs": [],
   "source": [
    "class Calculator:\n",
    "    def __init__(self,fn,sn):\n",
    "        self.fn = fn\n",
    "        self.sn = sn\n",
    "\n",
    "    def add(self): \n",
    "       return self.fn + self.sn\n",
    "   \n",
    "    def subtract(self):\n",
    "       return self.fn - self.sn\n",
    "    "
   ]
  },
  {
   "cell_type": "code",
   "execution_count": 60,
   "id": "397fb8de-387d-4357-91f1-97ecc6507b1b",
   "metadata": {},
   "outputs": [],
   "source": [
    "calc = Calculator(5,3)"
   ]
  },
  {
   "cell_type": "code",
   "execution_count": 61,
   "id": "ec89e101-19ad-427b-8c9d-a5971e6fa71c",
   "metadata": {},
   "outputs": [
    {
     "data": {
      "text/plain": [
       "8"
      ]
     },
     "execution_count": 61,
     "metadata": {},
     "output_type": "execute_result"
    }
   ],
   "source": [
    "calc.add()"
   ]
  },
  {
   "cell_type": "code",
   "execution_count": 62,
   "id": "dd2ba0ac-aa2f-4b7a-be3c-c5845dae0ccc",
   "metadata": {},
   "outputs": [
    {
     "data": {
      "text/plain": [
       "2"
      ]
     },
     "execution_count": 62,
     "metadata": {},
     "output_type": "execute_result"
    }
   ],
   "source": [
    "calc.subtract()"
   ]
  },
  {
   "cell_type": "code",
   "execution_count": 71,
   "id": "420c210b-b79c-488d-85ab-d0b94f4edd09",
   "metadata": {},
   "outputs": [],
   "source": [
    "class Dog:\n",
    "    def __init__(self,sound):\n",
    "        self.sound = sound\n",
    "    def bark(self):\n",
    "        return self.sound"
   ]
  },
  {
   "cell_type": "code",
   "execution_count": 72,
   "id": "183f8bf6-993e-479d-a597-f958a603926a",
   "metadata": {},
   "outputs": [],
   "source": [
    "pet = Dog(\"Woof!\")"
   ]
  },
  {
   "cell_type": "code",
   "execution_count": 74,
   "id": "28c50b3f-4c5e-42f5-ac22-eb67aac1b56d",
   "metadata": {},
   "outputs": [
    {
     "data": {
      "text/plain": [
       "'Woof!'"
      ]
     },
     "execution_count": 74,
     "metadata": {},
     "output_type": "execute_result"
    }
   ],
   "source": [
    "pet.bark()"
   ]
  },
  {
   "cell_type": "code",
   "execution_count": null,
   "id": "3ff248cc-3a2d-4f85-b8ee-4c0fac9c2dda",
   "metadata": {},
   "outputs": [],
   "source": []
  }
 ],
 "metadata": {
  "kernelspec": {
   "display_name": "Python [conda env:base] *",
   "language": "python",
   "name": "conda-base-py"
  },
  "language_info": {
   "codemirror_mode": {
    "name": "ipython",
    "version": 3
   },
   "file_extension": ".py",
   "mimetype": "text/x-python",
   "name": "python",
   "nbconvert_exporter": "python",
   "pygments_lexer": "ipython3",
   "version": "3.13.5"
  }
 },
 "nbformat": 4,
 "nbformat_minor": 5
}
