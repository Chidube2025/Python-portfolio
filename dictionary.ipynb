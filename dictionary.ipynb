{
 "cells": [
  {
   "cell_type": "markdown",
   "id": "8985990c-a6fb-45fc-8be3-91f15a157552",
   "metadata": {},
   "source": [
    "# Dictionary is created with curly braces\n",
    "# Dictionary is unordered\n",
    "# Dictionary keys are immutable\n",
    "# Dictiobary values are mutable\n",
    "# Dictionary can contain other data types even another dictionary"
   ]
  },
  {
   "cell_type": "code",
   "execution_count": 15,
   "id": "3c80d23f-918d-484c-b9cf-ca46df151410",
   "metadata": {},
   "outputs": [],
   "source": [
    "my_dict = dict()\n",
    "my_dict1 = {}"
   ]
  },
  {
   "cell_type": "code",
   "execution_count": 17,
   "id": "d5f471bc-bda3-4597-bf1d-93ac2ea6efac",
   "metadata": {},
   "outputs": [
    {
     "name": "stdout",
     "output_type": "stream",
     "text": [
      "{}\n",
      "{}\n"
     ]
    }
   ],
   "source": [
    "print(my_dict)\n",
    "print(my_dict1)"
   ]
  },
  {
   "cell_type": "code",
   "execution_count": null,
   "id": "233e05c1-efbc-4066-a1d2-7aa07deb3efb",
   "metadata": {},
   "outputs": [],
   "source": []
  }
 ],
 "metadata": {
  "kernelspec": {
   "display_name": "Python [conda env:base] *",
   "language": "python",
   "name": "conda-base-py"
  },
  "language_info": {
   "codemirror_mode": {
    "name": "ipython",
    "version": 3
   },
   "file_extension": ".py",
   "mimetype": "text/x-python",
   "name": "python",
   "nbconvert_exporter": "python",
   "pygments_lexer": "ipython3",
   "version": "3.13.5"
  }
 },
 "nbformat": 4,
 "nbformat_minor": 5
}
