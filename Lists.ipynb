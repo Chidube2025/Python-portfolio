{
 "cells": [
  {
   "cell_type": "markdown",
   "id": "c08e8b39-0867-4cb1-990c-450d2aca3ca8",
   "metadata": {},
   "source": [
    "## Characteristics of lists\n",
    "\n",
    "### Alist is ordered\n",
    "### A list is created with a square bracket\n",
    "### A list is mutable. We can change the elements or values ina list\n",
    "### A list can contain multiple data tyoes even another list"
   ]
  },
  {
   "cell_type": "code",
   "execution_count": 1,
   "id": "66ea106f-e70d-4658-8db6-7c7546f4a406",
   "metadata": {},
   "outputs": [],
   "source": [
    "my_list = list()\n",
    "my_list2 = []\n"
   ]
  },
  {
   "cell_type": "code",
   "execution_count": 2,
   "id": "2dbfdf6d-b45e-42e2-a3a5-1113b2512597",
   "metadata": {},
   "outputs": [
    {
     "name": "stdout",
     "output_type": "stream",
     "text": [
      "[]\n",
      "[]\n"
     ]
    }
   ],
   "source": [
    "print(my_list)\n",
    "print(my_list2)"
   ]
  },
  {
   "cell_type": "code",
   "execution_count": 3,
   "id": "a574f5a1-0ad2-4b78-a3ce-e4153529564d",
   "metadata": {},
   "outputs": [
    {
     "name": "stdout",
     "output_type": "stream",
     "text": [
      "<class 'list'>\n",
      "<class 'list'>\n"
     ]
    }
   ],
   "source": [
    "print(type(my_list))\n",
    "print(type(my_list2))"
   ]
  },
  {
   "cell_type": "code",
   "execution_count": 4,
   "id": "9b728727-cb17-487f-a1f4-04be75f66d96",
   "metadata": {},
   "outputs": [],
   "source": [
    "my_list2 = [1,2,3,4,5,[6,7,8,9,10]]"
   ]
  },
  {
   "cell_type": "code",
   "execution_count": 5,
   "id": "acc2867f-03ca-4f27-bee7-96a68289a7fb",
   "metadata": {},
   "outputs": [
    {
     "data": {
      "text/plain": [
       "[1, 2, 3, 4, 5, [6, 7, 8, 9, 10]]"
      ]
     },
     "execution_count": 5,
     "metadata": {},
     "output_type": "execute_result"
    }
   ],
   "source": [
    "my_list2"
   ]
  },
  {
   "cell_type": "code",
   "execution_count": 6,
   "id": "4c51ca89-c477-45fc-b476-dcba1a5a5701",
   "metadata": {},
   "outputs": [
    {
     "name": "stdout",
     "output_type": "stream",
     "text": [
      "['Mike', 30, 89, True]\n"
     ]
    }
   ],
   "source": [
    "my_list= [\"Mike\", 30, 89, True]\n",
    "print(my_list)"
   ]
  },
  {
   "cell_type": "code",
   "execution_count": 8,
   "id": "ff81d007-aa3a-4d24-9bd2-81f37125e5eb",
   "metadata": {},
   "outputs": [
    {
     "name": "stdout",
     "output_type": "stream",
     "text": [
      "True\n"
     ]
    }
   ],
   "source": [
    "# Positive Indexing\n",
    "print(my_list[3])"
   ]
  },
  {
   "cell_type": "code",
   "execution_count": 9,
   "id": "38f8bb45-b184-42f5-a1e2-17ba47b943e2",
   "metadata": {},
   "outputs": [],
   "source": [
    "#Negayiv eIndexing"
   ]
  },
  {
   "cell_type": "code",
   "execution_count": 10,
   "id": "70a8fa63-3679-4d57-aa24-980a94b3cd93",
   "metadata": {},
   "outputs": [],
   "source": [
    "# Slicing in List\n",
    "my_list2= [1,2,3,4,5,6,7,8,9,10]"
   ]
  },
  {
   "cell_type": "code",
   "execution_count": 18,
   "id": "607286f2-1d36-4cd8-91a5-9591ba2bc47c",
   "metadata": {},
   "outputs": [
    {
     "data": {
      "text/plain": [
       "[1, 3, 5, 7, 9]"
      ]
     },
     "execution_count": 18,
     "metadata": {},
     "output_type": "execute_result"
    }
   ],
   "source": [
    "my_list2[::2]"
   ]
  },
  {
   "cell_type": "code",
   "execution_count": 12,
   "id": "9636146c-d3f3-46a9-bfc2-9318dc416c39",
   "metadata": {},
   "outputs": [
    {
     "data": {
      "text/plain": [
       "[1, 2, 3, 4, 5, 6, 7, 8, 9, 10]"
      ]
     },
     "execution_count": 12,
     "metadata": {},
     "output_type": "execute_result"
    }
   ],
   "source": [
    "my_list2[0:]"
   ]
  },
  {
   "cell_type": "code",
   "execution_count": 19,
   "id": "aa353667-aa40-4576-aa21-475edab57b41",
   "metadata": {},
   "outputs": [
    {
     "data": {
      "text/plain": [
       "[1, 2, 3, 4, 5, 6, 7, 8, 9, 10, 11, 12]"
      ]
     },
     "execution_count": 19,
     "metadata": {},
     "output_type": "execute_result"
    }
   ],
   "source": [
    "list(range(1,13))"
   ]
  },
  {
   "cell_type": "code",
   "execution_count": 26,
   "id": "cecfb134-e50b-4547-b3ca-3b37eaf2afbf",
   "metadata": {},
   "outputs": [
    {
     "name": "stdout",
     "output_type": "stream",
     "text": [
      "2*1 = 2\n",
      "2*2 = 4\n",
      "2*3 = 6\n",
      "2*4 = 8\n",
      "2*5 = 10\n",
      "2*6 = 12\n",
      "2*7 = 14\n",
      "2*8 = 16\n",
      "2*9 = 18\n",
      "2*10 = 20\n",
      "2*11 = 22\n",
      "2*12 = 24\n"
     ]
    }
   ],
   "source": [
    "for i in range(1,13):\n",
    "    print(f\"2*{i} = {2*i}\")"
   ]
  },
  {
   "cell_type": "code",
   "execution_count": 27,
   "id": "390a0d56-c95e-413c-88c7-446f1983c682",
   "metadata": {},
   "outputs": [],
   "source": [
    "friends= [\"Mike\",\"Jake\",\"Alex\",\"Mary\"]"
   ]
  },
  {
   "cell_type": "code",
   "execution_count": 30,
   "id": "19462c04-7877-4492-9679-482bb01b19e6",
   "metadata": {},
   "outputs": [
    {
     "name": "stdout",
     "output_type": "stream",
     "text": [
      "Welcome Mike!\n",
      "Welcome Jake!\n",
      "Welcome Alex!\n",
      "Welcome Mary!\n"
     ]
    }
   ],
   "source": [
    "for friend in friends:\n",
    "    print(f\"Welcome {friend}!\")"
   ]
  },
  {
   "cell_type": "code",
   "execution_count": 33,
   "id": "af781616-f2e6-4714-a577-e2d448bec997",
   "metadata": {},
   "outputs": [],
   "source": [
    "friends[2]= \"Sarah\""
   ]
  },
  {
   "cell_type": "code",
   "execution_count": 34,
   "id": "a5f9c9cf-7288-455d-8676-65c2d488966b",
   "metadata": {},
   "outputs": [
    {
     "name": "stdout",
     "output_type": "stream",
     "text": [
      "Welcome Mike!\n",
      "Welcome Jake!\n",
      "Welcome Sarah!\n",
      "Welcome Mary!\n"
     ]
    }
   ],
   "source": [
    "for friend in friends:\n",
    "    print(f\"Welcome {friend}!\")"
   ]
  },
  {
   "cell_type": "code",
   "execution_count": 36,
   "id": "3fec039c-9b27-4b3b-a0c4-5a9a8e73d558",
   "metadata": {},
   "outputs": [
    {
     "name": "stdout",
     "output_type": "stream",
     "text": [
      "0 Mike\n",
      "1 Jake\n",
      "2 Sarah\n",
      "3 Mary\n"
     ]
    }
   ],
   "source": [
    "for index, friend in enumerate(friends):\n",
    "    print(index,friend)"
   ]
  },
  {
   "cell_type": "code",
   "execution_count": 38,
   "id": "dd10b249-c574-4818-80f0-5e8cca594eb3",
   "metadata": {},
   "outputs": [
    {
     "data": {
      "text/plain": [
       "4"
      ]
     },
     "execution_count": 38,
     "metadata": {},
     "output_type": "execute_result"
    }
   ],
   "source": [
    "len(friends)"
   ]
  },
  {
   "cell_type": "code",
   "execution_count": 37,
   "id": "42782cf1-6300-4c43-992d-1cedbf99dfae",
   "metadata": {},
   "outputs": [
    {
     "name": "stdout",
     "output_type": "stream",
     "text": [
      "0\n",
      "1\n",
      "2\n",
      "3\n"
     ]
    }
   ],
   "source": [
    "for friend in range(len(friends)):\n",
    "    print(friend)"
   ]
  },
  {
   "cell_type": "code",
   "execution_count": 42,
   "id": "d5b71052-4584-4c4a-88f0-b6bf7e9fba43",
   "metadata": {},
   "outputs": [
    {
     "name": "stdout",
     "output_type": "stream",
     "text": [
      "0 Mike\n",
      "1 Jake\n",
      "2 Sarah\n",
      "3 Mary\n"
     ]
    }
   ],
   "source": [
    "for i in range(len(friends)):\n",
    "    friend=friends[i]\n",
    "    print(i,friend)"
   ]
  },
  {
   "cell_type": "code",
   "execution_count": 43,
   "id": "da5a0792-292d-4e6f-a3c8-daa02b7e9dce",
   "metadata": {},
   "outputs": [
    {
     "name": "stdout",
     "output_type": "stream",
     "text": [
      "<class 'list'>\n"
     ]
    }
   ],
   "source": [
    "print(type(my_list))"
   ]
  },
  {
   "cell_type": "code",
   "execution_count": 102,
   "id": "58d23efe-8b27-468e-8db0-26e6c3414243",
   "metadata": {},
   "outputs": [
    {
     "data": {
      "text/plain": [
       "['__add__',\n",
       " '__class__',\n",
       " '__class_getitem__',\n",
       " '__contains__',\n",
       " '__delattr__',\n",
       " '__delitem__',\n",
       " '__dir__',\n",
       " '__doc__',\n",
       " '__eq__',\n",
       " '__format__',\n",
       " '__ge__',\n",
       " '__getattribute__',\n",
       " '__getitem__',\n",
       " '__getstate__',\n",
       " '__gt__',\n",
       " '__hash__',\n",
       " '__iadd__',\n",
       " '__imul__',\n",
       " '__init__',\n",
       " '__init_subclass__',\n",
       " '__iter__',\n",
       " '__le__',\n",
       " '__len__',\n",
       " '__lt__',\n",
       " '__mul__',\n",
       " '__ne__',\n",
       " '__new__',\n",
       " '__reduce__',\n",
       " '__reduce_ex__',\n",
       " '__repr__',\n",
       " '__reversed__',\n",
       " '__rmul__',\n",
       " '__setattr__',\n",
       " '__setitem__',\n",
       " '__sizeof__',\n",
       " '__str__',\n",
       " '__subclasshook__',\n",
       " 'append',\n",
       " 'clear',\n",
       " 'copy',\n",
       " 'count',\n",
       " 'extend',\n",
       " 'index',\n",
       " 'insert',\n",
       " 'pop',\n",
       " 'remove',\n",
       " 'reverse',\n",
       " 'sort']"
      ]
     },
     "execution_count": 102,
     "metadata": {},
     "output_type": "execute_result"
    }
   ],
   "source": [
    "dir(list)"
   ]
  },
  {
   "cell_type": "code",
   "execution_count": 46,
   "id": "98af41d7-5935-419a-ae0a-627abd3522b6",
   "metadata": {},
   "outputs": [
    {
     "data": {
      "text/plain": [
       "\u001b[1;31mSignature:\u001b[0m \u001b[0mlist\u001b[0m\u001b[1;33m.\u001b[0m\u001b[0mappend\u001b[0m\u001b[1;33m(\u001b[0m\u001b[0mself\u001b[0m\u001b[1;33m,\u001b[0m \u001b[0mobject\u001b[0m\u001b[1;33m,\u001b[0m \u001b[1;33m/\u001b[0m\u001b[1;33m)\u001b[0m\u001b[1;33m\u001b[0m\u001b[1;33m\u001b[0m\u001b[0m\n",
       "\u001b[1;31mDocstring:\u001b[0m Append object to the end of the list.\n",
       "\u001b[1;31mType:\u001b[0m      method_descriptor"
      ]
     },
     "metadata": {},
     "output_type": "display_data"
    }
   ],
   "source": [
    "list.append? # methods"
   ]
  },
  {
   "cell_type": "code",
   "execution_count": 47,
   "id": "92eedafe-b65f-4ea2-82df-fdf8b6bac4b3",
   "metadata": {},
   "outputs": [
    {
     "name": "stdout",
     "output_type": "stream",
     "text": [
      "Help on method_descriptor:\n",
      "\n",
      "append(self, object, /) unbound builtins.list method\n",
      "    Append object to the end of the list.\n",
      "\n"
     ]
    }
   ],
   "source": [
    "help(list.append)"
   ]
  },
  {
   "cell_type": "code",
   "execution_count": 48,
   "id": "4dbb6bc0-095c-4dca-a16f-a6e26c6f8ed4",
   "metadata": {},
   "outputs": [],
   "source": [
    "my_list2=[1,2,3,4]"
   ]
  },
  {
   "cell_type": "code",
   "execution_count": 52,
   "id": "a35f68b8-03f4-4577-9f5d-2715f801b6d9",
   "metadata": {},
   "outputs": [
    {
     "data": {
      "text/plain": [
       "[1, 2, 3, 4, 'Mike', 'Mike', 'Mike', 'Mike']"
      ]
     },
     "execution_count": 52,
     "metadata": {},
     "output_type": "execute_result"
    }
   ],
   "source": [
    "my_list2.append(\"Mike\")\n",
    "my_list2"
   ]
  },
  {
   "cell_type": "code",
   "execution_count": 53,
   "id": "c608d645-f38d-4c0d-9718-a2b3c5f0358a",
   "metadata": {},
   "outputs": [],
   "source": [
    "my_list2.append([5,6,7,8,9,10])"
   ]
  },
  {
   "cell_type": "code",
   "execution_count": 54,
   "id": "7fe1604a-c67b-4c0b-900e-858e73a5580f",
   "metadata": {},
   "outputs": [
    {
     "data": {
      "text/plain": [
       "[1, 2, 3, 4, 'Mike', 'Mike', 'Mike', 'Mike', [5, 6, 7, 8, 9, 10]]"
      ]
     },
     "execution_count": 54,
     "metadata": {},
     "output_type": "execute_result"
    }
   ],
   "source": [
    "my_list2"
   ]
  },
  {
   "cell_type": "code",
   "execution_count": 56,
   "id": "6e4d45a8-c2fe-4876-b1c7-38fd4f39e349",
   "metadata": {},
   "outputs": [
    {
     "data": {
      "text/plain": [
       "\u001b[1;31mSignature:\u001b[0m \u001b[0mlist\u001b[0m\u001b[1;33m.\u001b[0m\u001b[0mclear\u001b[0m\u001b[1;33m(\u001b[0m\u001b[0mself\u001b[0m\u001b[1;33m,\u001b[0m \u001b[1;33m/\u001b[0m\u001b[1;33m)\u001b[0m\u001b[1;33m\u001b[0m\u001b[1;33m\u001b[0m\u001b[0m\n",
       "\u001b[1;31mDocstring:\u001b[0m Remove all items from list.\n",
       "\u001b[1;31mType:\u001b[0m      method_descriptor"
      ]
     },
     "metadata": {},
     "output_type": "display_data"
    }
   ],
   "source": [
    "list.clear? # methods"
   ]
  },
  {
   "cell_type": "code",
   "execution_count": 57,
   "id": "1c01373e-e4f9-4f9c-8290-63ac01303522",
   "metadata": {},
   "outputs": [],
   "source": [
    "my_list2.clear()"
   ]
  },
  {
   "cell_type": "code",
   "execution_count": 58,
   "id": "276d8faf-54bd-4519-9841-f09992b14556",
   "metadata": {},
   "outputs": [
    {
     "data": {
      "text/plain": [
       "[]"
      ]
     },
     "execution_count": 58,
     "metadata": {},
     "output_type": "execute_result"
    }
   ],
   "source": [
    "my_list2"
   ]
  },
  {
   "cell_type": "code",
   "execution_count": 59,
   "id": "e9c50827-bfb8-45d3-babf-3aab968d0181",
   "metadata": {},
   "outputs": [
    {
     "data": {
      "text/plain": [
       "\u001b[1;31mSignature:\u001b[0m \u001b[0mlist\u001b[0m\u001b[1;33m.\u001b[0m\u001b[0mcopy\u001b[0m\u001b[1;33m(\u001b[0m\u001b[0mself\u001b[0m\u001b[1;33m,\u001b[0m \u001b[1;33m/\u001b[0m\u001b[1;33m)\u001b[0m\u001b[1;33m\u001b[0m\u001b[1;33m\u001b[0m\u001b[0m\n",
       "\u001b[1;31mDocstring:\u001b[0m Return a shallow copy of the list.\n",
       "\u001b[1;31mType:\u001b[0m      method_descriptor"
      ]
     },
     "metadata": {},
     "output_type": "display_data"
    }
   ],
   "source": [
    "list.copy?"
   ]
  },
  {
   "cell_type": "code",
   "execution_count": 61,
   "id": "dccf5d45-34c7-420d-bb17-2cae8c9327cd",
   "metadata": {},
   "outputs": [],
   "source": [
    "#### ****my_list=[1,2,3,4,5,6,7,8,9,10]"
   ]
  },
  {
   "cell_type": "code",
   "execution_count": 62,
   "id": "bbe156cc-6099-4d6d-ab52-cdd55a51917c",
   "metadata": {},
   "outputs": [
    {
     "data": {
      "text/plain": [
       "\u001b[1;31mSignature:\u001b[0m \u001b[0mlist\u001b[0m\u001b[1;33m.\u001b[0m\u001b[0mcount\u001b[0m\u001b[1;33m(\u001b[0m\u001b[0mself\u001b[0m\u001b[1;33m,\u001b[0m \u001b[0mvalue\u001b[0m\u001b[1;33m,\u001b[0m \u001b[1;33m/\u001b[0m\u001b[1;33m)\u001b[0m\u001b[1;33m\u001b[0m\u001b[1;33m\u001b[0m\u001b[0m\n",
       "\u001b[1;31mDocstring:\u001b[0m Return number of occurrences of value.\n",
       "\u001b[1;31mType:\u001b[0m      method_descriptor"
      ]
     },
     "metadata": {},
     "output_type": "display_data"
    }
   ],
   "source": [
    "list.count?\n"
   ]
  },
  {
   "cell_type": "code",
   "execution_count": 66,
   "id": "008ce6e8-82f9-4530-aa0e-3045f1272ee8",
   "metadata": {},
   "outputs": [],
   "source": [
    "friend= \"mike\",\"mike\",\"Bob\""
   ]
  },
  {
   "cell_type": "code",
   "execution_count": 67,
   "id": "dbdba091-5d71-4cbf-9eb5-fcfa1983454f",
   "metadata": {},
   "outputs": [
    {
     "data": {
      "text/plain": [
       "2"
      ]
     },
     "execution_count": 67,
     "metadata": {},
     "output_type": "execute_result"
    }
   ],
   "source": [
    "friend.count(\"mike\")"
   ]
  },
  {
   "cell_type": "code",
   "execution_count": 68,
   "id": "ee3d06e4-1a4a-4bd0-9d7c-3a67855fe4c2",
   "metadata": {},
   "outputs": [
    {
     "data": {
      "text/plain": [
       "1"
      ]
     },
     "execution_count": 68,
     "metadata": {},
     "output_type": "execute_result"
    }
   ],
   "source": [
    "friend.count(\"Bob\")"
   ]
  },
  {
   "cell_type": "code",
   "execution_count": 69,
   "id": "8a9e3881-f2b2-47c9-8f59-f79e8e4d447b",
   "metadata": {},
   "outputs": [
    {
     "data": {
      "text/plain": [
       "\u001b[1;31mSignature:\u001b[0m \u001b[0mlist\u001b[0m\u001b[1;33m.\u001b[0m\u001b[0mextend\u001b[0m\u001b[1;33m(\u001b[0m\u001b[0mself\u001b[0m\u001b[1;33m,\u001b[0m \u001b[0miterable\u001b[0m\u001b[1;33m,\u001b[0m \u001b[1;33m/\u001b[0m\u001b[1;33m)\u001b[0m\u001b[1;33m\u001b[0m\u001b[1;33m\u001b[0m\u001b[0m\n",
       "\u001b[1;31mDocstring:\u001b[0m Extend list by appending elements from the iterable.\n",
       "\u001b[1;31mType:\u001b[0m      method_descriptor"
      ]
     },
     "metadata": {},
     "output_type": "display_data"
    }
   ],
   "source": [
    "list.extend?"
   ]
  },
  {
   "cell_type": "code",
   "execution_count": 126,
   "id": "ffcbaeca-df57-43d6-8474-c80b66b0fa22",
   "metadata": {},
   "outputs": [],
   "source": [
    "list1=[1,2,3,4,5]"
   ]
  },
  {
   "cell_type": "code",
   "execution_count": 128,
   "id": "400e600a-da48-4445-9c33-d176e46a01b3",
   "metadata": {},
   "outputs": [
    {
     "data": {
      "text/plain": [
       "[1, 2, 3, 4, 5]"
      ]
     },
     "execution_count": 128,
     "metadata": {},
     "output_type": "execute_result"
    }
   ],
   "source": [
    "list1"
   ]
  },
  {
   "cell_type": "code",
   "execution_count": 127,
   "id": "13d810d3-96ba-4c7b-afe5-84a7023edc11",
   "metadata": {},
   "outputs": [],
   "source": [
    "list2=[6,7,8,9,10]"
   ]
  },
  {
   "cell_type": "code",
   "execution_count": null,
   "id": "4d78d5e9-7547-4d7d-b815-71d820261bd5",
   "metadata": {},
   "outputs": [],
   "source": [
    "list"
   ]
  },
  {
   "cell_type": "code",
   "execution_count": 78,
   "id": "9844d97f-cd39-43ab-91f6-b2f5d39ea781",
   "metadata": {},
   "outputs": [
    {
     "data": {
      "text/plain": [
       "\u001b[1;31mSignature:\u001b[0m \u001b[0mlist\u001b[0m\u001b[1;33m.\u001b[0m\u001b[0mindex\u001b[0m\u001b[1;33m(\u001b[0m\u001b[0mself\u001b[0m\u001b[1;33m,\u001b[0m \u001b[0mvalue\u001b[0m\u001b[1;33m,\u001b[0m \u001b[0mstart\u001b[0m\u001b[1;33m=\u001b[0m\u001b[1;36m0\u001b[0m\u001b[1;33m,\u001b[0m \u001b[0mstop\u001b[0m\u001b[1;33m=\u001b[0m\u001b[1;36m9223372036854775807\u001b[0m\u001b[1;33m,\u001b[0m \u001b[1;33m/\u001b[0m\u001b[1;33m)\u001b[0m\u001b[1;33m\u001b[0m\u001b[1;33m\u001b[0m\u001b[0m\n",
       "\u001b[1;31mDocstring:\u001b[0m\n",
       "Return first index of value.\n",
       "\n",
       "Raises ValueError if the value is not present.\n",
       "\u001b[1;31mType:\u001b[0m      method_descriptor"
      ]
     },
     "metadata": {},
     "output_type": "display_data"
    }
   ],
   "source": [
    "list.index?"
   ]
  },
  {
   "cell_type": "code",
   "execution_count": 74,
   "id": "5514979f-ed49-4798-9ec6-3eb61b13ea9a",
   "metadata": {},
   "outputs": [
    {
     "data": {
      "text/plain": [
       "['Mike', 'Jake', 'Sarah', 'Mary']"
      ]
     },
     "execution_count": 74,
     "metadata": {},
     "output_type": "execute_result"
    }
   ],
   "source": [
    "friends"
   ]
  },
  {
   "cell_type": "code",
   "execution_count": 77,
   "id": "172b3fc7-21b7-4bf1-9f50-a30c6ded0ba7",
   "metadata": {},
   "outputs": [
    {
     "data": {
      "text/plain": [
       "2"
      ]
     },
     "execution_count": 77,
     "metadata": {},
     "output_type": "execute_result"
    }
   ],
   "source": [
    "friends.index(\"Sarah\")"
   ]
  },
  {
   "cell_type": "code",
   "execution_count": 79,
   "id": "0ed5bcb0-5528-4911-8608-fac2fae6cde3",
   "metadata": {},
   "outputs": [
    {
     "data": {
      "text/plain": [
       "\u001b[1;31mSignature:\u001b[0m \u001b[0mlist\u001b[0m\u001b[1;33m.\u001b[0m\u001b[0minsert\u001b[0m\u001b[1;33m(\u001b[0m\u001b[0mself\u001b[0m\u001b[1;33m,\u001b[0m \u001b[0mindex\u001b[0m\u001b[1;33m,\u001b[0m \u001b[0mobject\u001b[0m\u001b[1;33m,\u001b[0m \u001b[1;33m/\u001b[0m\u001b[1;33m)\u001b[0m\u001b[1;33m\u001b[0m\u001b[1;33m\u001b[0m\u001b[0m\n",
       "\u001b[1;31mDocstring:\u001b[0m Insert object before index.\n",
       "\u001b[1;31mType:\u001b[0m      method_descriptor"
      ]
     },
     "metadata": {},
     "output_type": "display_data"
    }
   ],
   "source": [
    "list.insert?"
   ]
  },
  {
   "cell_type": "code",
   "execution_count": 80,
   "id": "764c2924-f86f-4171-a3fb-1f80fc3493bf",
   "metadata": {},
   "outputs": [
    {
     "data": {
      "text/plain": [
       "['Mike', 'Jake', 'Sarah', 'Mary']"
      ]
     },
     "execution_count": 80,
     "metadata": {},
     "output_type": "execute_result"
    }
   ],
   "source": [
    "friends"
   ]
  },
  {
   "cell_type": "code",
   "execution_count": 81,
   "id": "22903d60-44e3-4969-a385-b4b7c972ad08",
   "metadata": {},
   "outputs": [],
   "source": [
    "friends.insert(-1,\"Sarah\")"
   ]
  },
  {
   "cell_type": "code",
   "execution_count": 82,
   "id": "11a9b2ef-c5c0-40da-9bf2-5d63d0dc568e",
   "metadata": {},
   "outputs": [
    {
     "data": {
      "text/plain": [
       "['Mike', 'Jake', 'Sarah', 'Sarah', 'Mary']"
      ]
     },
     "execution_count": 82,
     "metadata": {},
     "output_type": "execute_result"
    }
   ],
   "source": [
    "friends"
   ]
  },
  {
   "cell_type": "code",
   "execution_count": 83,
   "id": "9bd515fb-855d-43cb-9ecc-4663d38e07bb",
   "metadata": {},
   "outputs": [],
   "source": [
    "friends.insert(5,\"John\")"
   ]
  },
  {
   "cell_type": "code",
   "execution_count": 84,
   "id": "081a420c-7e5b-4c85-b9c2-5ed50c35d4b5",
   "metadata": {},
   "outputs": [
    {
     "data": {
      "text/plain": [
       "['Mike', 'Jake', 'Sarah', 'Sarah', 'Mary', 'John']"
      ]
     },
     "execution_count": 84,
     "metadata": {},
     "output_type": "execute_result"
    }
   ],
   "source": [
    "friends"
   ]
  },
  {
   "cell_type": "code",
   "execution_count": 85,
   "id": "b598fe86-089a-4098-ac4f-0208fbd8c005",
   "metadata": {},
   "outputs": [
    {
     "data": {
      "text/plain": [
       "\u001b[1;31mSignature:\u001b[0m \u001b[0mlist\u001b[0m\u001b[1;33m.\u001b[0m\u001b[0mpop\u001b[0m\u001b[1;33m(\u001b[0m\u001b[0mself\u001b[0m\u001b[1;33m,\u001b[0m \u001b[0mindex\u001b[0m\u001b[1;33m=\u001b[0m\u001b[1;33m-\u001b[0m\u001b[1;36m1\u001b[0m\u001b[1;33m,\u001b[0m \u001b[1;33m/\u001b[0m\u001b[1;33m)\u001b[0m\u001b[1;33m\u001b[0m\u001b[1;33m\u001b[0m\u001b[0m\n",
       "\u001b[1;31mDocstring:\u001b[0m\n",
       "Remove and return item at index (default last).\n",
       "\n",
       "Raises IndexError if list is empty or index is out of range.\n",
       "\u001b[1;31mType:\u001b[0m      method_descriptor"
      ]
     },
     "metadata": {},
     "output_type": "display_data"
    }
   ],
   "source": [
    "list.pop?"
   ]
  },
  {
   "cell_type": "code",
   "execution_count": 86,
   "id": "15a9c50f-421b-4704-bf72-ca1584bd82b8",
   "metadata": {},
   "outputs": [
    {
     "data": {
      "text/plain": [
       "'John'"
      ]
     },
     "execution_count": 86,
     "metadata": {},
     "output_type": "execute_result"
    }
   ],
   "source": [
    "friends.pop()"
   ]
  },
  {
   "cell_type": "code",
   "execution_count": 87,
   "id": "e0f67a6f-0c7a-40f1-8af1-432088d7f4a9",
   "metadata": {},
   "outputs": [
    {
     "data": {
      "text/plain": [
       "['Mike', 'Jake', 'Sarah', 'Sarah', 'Mary']"
      ]
     },
     "execution_count": 87,
     "metadata": {},
     "output_type": "execute_result"
    }
   ],
   "source": [
    "friends"
   ]
  },
  {
   "cell_type": "code",
   "execution_count": 88,
   "id": "87f446f7-b40d-4c46-90f4-31726aac04cd",
   "metadata": {},
   "outputs": [
    {
     "data": {
      "text/plain": [
       "'Sarah'"
      ]
     },
     "execution_count": 88,
     "metadata": {},
     "output_type": "execute_result"
    }
   ],
   "source": [
    "friends.pop(2)"
   ]
  },
  {
   "cell_type": "code",
   "execution_count": 89,
   "id": "c988f496-5a37-4015-b8b5-cbbe39d268e3",
   "metadata": {},
   "outputs": [
    {
     "data": {
      "text/plain": [
       "['Mike', 'Jake', 'Sarah', 'Mary']"
      ]
     },
     "execution_count": 89,
     "metadata": {},
     "output_type": "execute_result"
    }
   ],
   "source": [
    "friends"
   ]
  },
  {
   "cell_type": "code",
   "execution_count": 90,
   "id": "ef72c36b-5ef0-4a57-b6c1-d67968cbbefd",
   "metadata": {},
   "outputs": [
    {
     "data": {
      "text/plain": [
       "\u001b[1;31mSignature:\u001b[0m \u001b[0mlist\u001b[0m\u001b[1;33m.\u001b[0m\u001b[0mremove\u001b[0m\u001b[1;33m(\u001b[0m\u001b[0mself\u001b[0m\u001b[1;33m,\u001b[0m \u001b[0mvalue\u001b[0m\u001b[1;33m,\u001b[0m \u001b[1;33m/\u001b[0m\u001b[1;33m)\u001b[0m\u001b[1;33m\u001b[0m\u001b[1;33m\u001b[0m\u001b[0m\n",
       "\u001b[1;31mDocstring:\u001b[0m\n",
       "Remove first occurrence of value.\n",
       "\n",
       "Raises ValueError if the value is not present.\n",
       "\u001b[1;31mType:\u001b[0m      method_descriptor"
      ]
     },
     "metadata": {},
     "output_type": "display_data"
    }
   ],
   "source": [
    "list.remove?"
   ]
  },
  {
   "cell_type": "code",
   "execution_count": 91,
   "id": "e084a36d-1f6b-4576-8f7b-ac76e1349c45",
   "metadata": {},
   "outputs": [],
   "source": [
    "friends= [\"Mike\",\"Jake\",\"Alex\",\"Mike\"]"
   ]
  },
  {
   "cell_type": "code",
   "execution_count": 92,
   "id": "1985fe0d-1ac7-42a5-bc7f-6ad27d34ad06",
   "metadata": {},
   "outputs": [],
   "source": [
    "friends.remove(\"Mike\")"
   ]
  },
  {
   "cell_type": "code",
   "execution_count": 94,
   "id": "b14ecd0c-5bd9-4197-8280-b36ea87d3374",
   "metadata": {},
   "outputs": [
    {
     "data": {
      "text/plain": [
       "['Jake', 'Alex', 'Mike']"
      ]
     },
     "execution_count": 94,
     "metadata": {},
     "output_type": "execute_result"
    }
   ],
   "source": [
    "friends"
   ]
  },
  {
   "cell_type": "code",
   "execution_count": 95,
   "id": "d6eca048-28d3-4699-9c62-1de38a0fb2d8",
   "metadata": {},
   "outputs": [
    {
     "name": "stdout",
     "output_type": "stream",
     "text": [
      "Object `ist.reverse` not found.\n"
     ]
    }
   ],
   "source": [
    "ist.reverse?"
   ]
  },
  {
   "cell_type": "code",
   "execution_count": 96,
   "id": "3447eaae-3c6b-4334-9088-9f6c40da97bc",
   "metadata": {},
   "outputs": [
    {
     "data": {
      "text/plain": [
       "['Jake', 'Alex', 'Mike']"
      ]
     },
     "execution_count": 96,
     "metadata": {},
     "output_type": "execute_result"
    }
   ],
   "source": [
    "friends"
   ]
  },
  {
   "cell_type": "code",
   "execution_count": 97,
   "id": "9918b8a2-a0a8-45be-9c6d-83fc9f7d1de9",
   "metadata": {},
   "outputs": [],
   "source": [
    "friends.reverse()"
   ]
  },
  {
   "cell_type": "code",
   "execution_count": 98,
   "id": "86e681a6-8a97-483d-8a7d-7e99efbfaabe",
   "metadata": {},
   "outputs": [
    {
     "data": {
      "text/plain": [
       "['Mike', 'Alex', 'Jake']"
      ]
     },
     "execution_count": 98,
     "metadata": {},
     "output_type": "execute_result"
    }
   ],
   "source": [
    "friends"
   ]
  },
  {
   "cell_type": "code",
   "execution_count": 99,
   "id": "5d4233fd-ee69-48bf-9ecb-4d5842a8ea77",
   "metadata": {},
   "outputs": [
    {
     "data": {
      "text/plain": [
       "\u001b[1;31mSignature:\u001b[0m \u001b[0mlist\u001b[0m\u001b[1;33m.\u001b[0m\u001b[0msort\u001b[0m\u001b[1;33m(\u001b[0m\u001b[0mself\u001b[0m\u001b[1;33m,\u001b[0m \u001b[1;33m/\u001b[0m\u001b[1;33m,\u001b[0m \u001b[1;33m*\u001b[0m\u001b[1;33m,\u001b[0m \u001b[0mkey\u001b[0m\u001b[1;33m=\u001b[0m\u001b[1;32mNone\u001b[0m\u001b[1;33m,\u001b[0m \u001b[0mreverse\u001b[0m\u001b[1;33m=\u001b[0m\u001b[1;32mFalse\u001b[0m\u001b[1;33m)\u001b[0m\u001b[1;33m\u001b[0m\u001b[1;33m\u001b[0m\u001b[0m\n",
       "\u001b[1;31mDocstring:\u001b[0m\n",
       "Sort the list in ascending order and return None.\n",
       "\n",
       "The sort is in-place (i.e. the list itself is modified) and stable (i.e. the\n",
       "order of two equal elements is maintained).\n",
       "\n",
       "If a key function is given, apply it once to each list item and sort them,\n",
       "ascending or descending, according to their function values.\n",
       "\n",
       "The reverse flag can be set to sort in descending order.\n",
       "\u001b[1;31mType:\u001b[0m      method_descriptor"
      ]
     },
     "metadata": {},
     "output_type": "display_data"
    }
   ],
   "source": [
    "list.sort?"
   ]
  },
  {
   "cell_type": "code",
   "execution_count": 100,
   "id": "6a4b5625-5638-4d51-a057-27e76c8297b0",
   "metadata": {},
   "outputs": [],
   "source": [
    "friends.sort()"
   ]
  },
  {
   "cell_type": "code",
   "execution_count": 101,
   "id": "b3e847c3-700d-40dd-830b-de6a08d4117f",
   "metadata": {},
   "outputs": [
    {
     "data": {
      "text/plain": [
       "['Alex', 'Jake', 'Mike']"
      ]
     },
     "execution_count": 101,
     "metadata": {},
     "output_type": "execute_result"
    }
   ],
   "source": [
    "friends"
   ]
  },
  {
   "cell_type": "code",
   "execution_count": 103,
   "id": "5a6b354d-c9c4-46cc-a295-ab16c34767e8",
   "metadata": {},
   "outputs": [],
   "source": [
    "num=[3,5,10,7,4]"
   ]
  },
  {
   "cell_type": "code",
   "execution_count": 104,
   "id": "934631d4-a301-4562-bee4-8c9f6870f2e9",
   "metadata": {},
   "outputs": [],
   "source": [
    "num.sort(reverse=True)"
   ]
  },
  {
   "cell_type": "code",
   "execution_count": 105,
   "id": "d9f26834-20c9-4e47-ba77-24d8c378a685",
   "metadata": {},
   "outputs": [
    {
     "data": {
      "text/plain": [
       "[10, 7, 5, 4, 3]"
      ]
     },
     "execution_count": 105,
     "metadata": {},
     "output_type": "execute_result"
    }
   ],
   "source": [
    "num"
   ]
  },
  {
   "cell_type": "code",
   "execution_count": 106,
   "id": "0283d2eb-2f31-4b3a-b88e-63a121d42ab8",
   "metadata": {},
   "outputs": [],
   "source": [
    "nums1=[1,2,3,4,5]\n",
    "nums2=[6,7,8,9,10]"
   ]
  },
  {
   "cell_type": "code",
   "execution_count": 108,
   "id": "1d38343c-a6aa-44ee-8829-08092f7f4bc8",
   "metadata": {},
   "outputs": [
    {
     "data": {
      "text/plain": [
       "[1, 2, 3, 4, 5, 6, 7, 8, 9, 10]"
      ]
     },
     "execution_count": 108,
     "metadata": {},
     "output_type": "execute_result"
    }
   ],
   "source": [
    "nums1.__add__(nums2)"
   ]
  },
  {
   "cell_type": "code",
   "execution_count": 109,
   "id": "c01e23b9-5b53-4d2f-b402-058d4b67e84a",
   "metadata": {},
   "outputs": [
    {
     "data": {
      "text/plain": [
       "False"
      ]
     },
     "execution_count": 109,
     "metadata": {},
     "output_type": "execute_result"
    }
   ],
   "source": [
    "nums1>nums2"
   ]
  },
  {
   "cell_type": "code",
   "execution_count": 110,
   "id": "1d6e1205-6b0d-4454-8d5c-fdaecdb70cfb",
   "metadata": {},
   "outputs": [
    {
     "data": {
      "text/plain": [
       "False"
      ]
     },
     "execution_count": 110,
     "metadata": {},
     "output_type": "execute_result"
    }
   ],
   "source": [
    "nums1.__gt__(nums2)"
   ]
  },
  {
   "cell_type": "code",
   "execution_count": 111,
   "id": "48ad65ec-4cbb-41c4-a589-2900b86b260a",
   "metadata": {},
   "outputs": [
    {
     "data": {
      "text/plain": [
       "15"
      ]
     },
     "execution_count": 111,
     "metadata": {},
     "output_type": "execute_result"
    }
   ],
   "source": [
    "sum(nums1)"
   ]
  },
  {
   "cell_type": "code",
   "execution_count": 112,
   "id": "92dbdf89-79e9-4d99-8d51-3f3f1f220e10",
   "metadata": {},
   "outputs": [],
   "source": [
    "sentence = \"I love learning python\""
   ]
  },
  {
   "cell_type": "code",
   "execution_count": 113,
   "id": "adc3124b-371c-4ca3-aa4e-a8164dc07282",
   "metadata": {},
   "outputs": [],
   "source": [
    "sentence_list= sentence.split()"
   ]
  },
  {
   "cell_type": "code",
   "execution_count": 114,
   "id": "dc59b617-ade5-4f7c-aa4b-8730dccf3372",
   "metadata": {},
   "outputs": [
    {
     "data": {
      "text/plain": [
       "['I', 'love', 'learning', 'python']"
      ]
     },
     "execution_count": 114,
     "metadata": {},
     "output_type": "execute_result"
    }
   ],
   "source": [
    "sentence_list"
   ]
  },
  {
   "cell_type": "code",
   "execution_count": 115,
   "id": "c383dcd7-d658-4a8e-80ea-3715d69c63d8",
   "metadata": {},
   "outputs": [],
   "source": [
    "sentence = \"I, love learning python\""
   ]
  },
  {
   "cell_type": "code",
   "execution_count": 116,
   "id": "3fbdb1a5-aded-4fe1-ab94-9ade950144d4",
   "metadata": {},
   "outputs": [
    {
     "data": {
      "text/plain": [
       "['I', ' love learning python']"
      ]
     },
     "execution_count": 116,
     "metadata": {},
     "output_type": "execute_result"
    }
   ],
   "source": [
    "sentence.split(\",\")"
   ]
  },
  {
   "cell_type": "code",
   "execution_count": 121,
   "id": "1bcb1cdf-92d9-4f9c-b5f9-4109321e2e87",
   "metadata": {},
   "outputs": [
    {
     "data": {
      "text/plain": [
       "2"
      ]
     },
     "execution_count": 121,
     "metadata": {},
     "output_type": "execute_result"
    }
   ],
   "source": [
    "len(sentence.split(\",\"))"
   ]
  },
  {
   "cell_type": "code",
   "execution_count": null,
   "id": "cb84a869-2f16-4598-b4cd-c3259fc8e508",
   "metadata": {},
   "outputs": [],
   "source": []
  }
 ],
 "metadata": {
  "kernelspec": {
   "display_name": "Python [conda env:base] *",
   "language": "python",
   "name": "conda-base-py"
  },
  "language_info": {
   "codemirror_mode": {
    "name": "ipython",
    "version": 3
   },
   "file_extension": ".py",
   "mimetype": "text/x-python",
   "name": "python",
   "nbconvert_exporter": "python",
   "pygments_lexer": "ipython3",
   "version": "3.13.5"
  }
 },
 "nbformat": 4,
 "nbformat_minor": 5
}
