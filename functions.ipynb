{
 "cells": [
  {
   "cell_type": "code",
   "execution_count": 6,
   "id": "2c6c5995-07f9-408a-9d20-7a527ccf3597",
   "metadata": {},
   "outputs": [],
   "source": [
    "def greeting(name):\n",
    "    print(f\"Hello {name}\")"
   ]
  },
  {
   "cell_type": "code",
   "execution_count": 7,
   "id": "39d0e678-6a2f-445a-9867-062d664a2dcd",
   "metadata": {},
   "outputs": [
    {
     "name": "stdout",
     "output_type": "stream",
     "text": [
      "Hello Bob\n"
     ]
    }
   ],
   "source": [
    "greeting(\"Bob\")"
   ]
  },
  {
   "cell_type": "markdown",
   "id": "82360063-a9c6-41b7-8c6a-b61bcb7d2253",
   "metadata": {},
   "source": [
    "# Aparameter is a variable placed inside the parenthesis of the function when creating the function\n",
    "# An arguement is the value passed to replace the parameter when calling or invoking the function "
   ]
  },
  {
   "cell_type": "code",
   "execution_count": 8,
   "id": "91b117a0-e35c-41f2-97ab-104c546c4a02",
   "metadata": {},
   "outputs": [],
   "source": [
    "#User defined functions\n",
    "def greeting():\n",
    "    name=\"Mary\"\n",
    "    print(f\"Hello {name}\")"
   ]
  },
  {
   "cell_type": "code",
   "execution_count": 9,
   "id": "491b269b-1147-4bd5-b424-908fc85e300d",
   "metadata": {},
   "outputs": [
    {
     "name": "stdout",
     "output_type": "stream",
     "text": [
      "Hello Mary\n"
     ]
    }
   ],
   "source": [
    "greeting()"
   ]
  },
  {
   "cell_type": "code",
   "execution_count": 10,
   "id": "21dbc685-953c-43a6-9d94-dce1a7663118",
   "metadata": {},
   "outputs": [],
   "source": [
    "# Multiple parameters\n",
    "def greeting(name,age,gender):\n",
    "    print(f\"Hello {name}. My name is {age} and I am a {gender}\")"
   ]
  },
  {
   "cell_type": "code",
   "execution_count": 11,
   "id": "b930554a-3d59-4e3e-a391-bccbbad3f372",
   "metadata": {},
   "outputs": [
    {
     "name": "stdout",
     "output_type": "stream",
     "text": [
      "Hello mike. My name is 36 and I am a Male\n"
     ]
    }
   ],
   "source": [
    "greeting(\"mike\",36,\"Male\")"
   ]
  },
  {
   "cell_type": "code",
   "execution_count": 12,
   "id": "217f54a0-b05b-45b9-a1e0-acdfadf904db",
   "metadata": {},
   "outputs": [
    {
     "ename": "SyntaxError",
     "evalue": "invalid syntax (2862021193.py, line 4)",
     "output_type": "error",
     "traceback": [
      "\u001b[1;36m  Cell \u001b[1;32mIn[12], line 4\u001b[1;36m\u001b[0m\n\u001b[1;33m    age=\u001b[0m\n\u001b[1;37m        ^\u001b[0m\n\u001b[1;31mSyntaxError\u001b[0m\u001b[1;31m:\u001b[0m invalid syntax\n"
     ]
    }
   ],
   "source": [
    "#User defined functions\n",
    "def greeting(name,age,gender):\n",
    "    name=input(\"Enter your name\")\n",
    "    age=\n",
    "    print(f\"Hello {name}. My name is {age} and I am a {gender}\")\n"
   ]
  },
  {
   "cell_type": "markdown",
   "id": "47ce6c7b-ac9b-4201-8a5b-761c129e3f4d",
   "metadata": {},
   "source": [
    "## Types of arguement\n",
    "# Positional arguements\n",
    "# Default arguements\n",
    "# Keyword Arguements"
   ]
  },
  {
   "cell_type": "code",
   "execution_count": 16,
   "id": "8b20601d-2ddf-4bb4-a75c-b9df863c6275",
   "metadata": {},
   "outputs": [],
   "source": [
    "#Default arguements\n",
    "def greeting(name,age=40,gender=\"Male\"):#Default arguement must be last unless there will be error\n",
    "    print(f\"Hello {name}. My name is {age} and I am a {gender}\")"
   ]
  },
  {
   "cell_type": "code",
   "execution_count": 14,
   "id": "52b0508e-2dfa-4939-84be-dc9200d3a8c6",
   "metadata": {},
   "outputs": [
    {
     "name": "stdout",
     "output_type": "stream",
     "text": [
      "Hello Sarah. My name is 40 and I am a Male\n"
     ]
    }
   ],
   "source": [
    "greeting(\"Sarah\")"
   ]
  },
  {
   "cell_type": "code",
   "execution_count": 15,
   "id": "5a6738ec-b26f-4e6f-ada9-23f2be67cdbd",
   "metadata": {},
   "outputs": [
    {
     "name": "stdout",
     "output_type": "stream",
     "text": [
      "Hello Sarah. My name is 34 and I am a Male\n"
     ]
    }
   ],
   "source": [
    "greeting(\"Sarah\",34)"
   ]
  },
  {
   "cell_type": "code",
   "execution_count": 18,
   "id": "263ab023-b756-4aa1-997c-3a1e889fabb0",
   "metadata": {},
   "outputs": [],
   "source": [
    "#Keyword arguements\n",
    "def greeting(name,gender,age=53):\n",
    "    print(f\"Hello {name}. My name is {age} and I am a {gender}\")"
   ]
  },
  {
   "cell_type": "code",
   "execution_count": 19,
   "id": "cd273922-37e2-4670-9e7b-84ed9562526f",
   "metadata": {},
   "outputs": [
    {
     "name": "stdout",
     "output_type": "stream",
     "text": [
      "Hello Sarah. My name is 34 and I am a Female\n"
     ]
    }
   ],
   "source": [
    "greeting(\"Sarah\",gender=\"Female\",age=34)"
   ]
  },
  {
   "cell_type": "code",
   "execution_count": 20,
   "id": "f14c9ada-e244-40de-ab71-f5582763db9c",
   "metadata": {},
   "outputs": [
    {
     "ename": "TypeError",
     "evalue": "can only concatenate str (not \"int\") to str",
     "output_type": "error",
     "traceback": [
      "\u001b[1;31m---------------------------------------------------------------------------\u001b[0m",
      "\u001b[1;31mTypeError\u001b[0m                                 Traceback (most recent call last)",
      "Cell \u001b[1;32mIn[20], line 1\u001b[0m\n\u001b[1;32m----> 1\u001b[0m \u001b[38;5;124m\"\u001b[39m\u001b[38;5;124m123\u001b[39m\u001b[38;5;124m\"\u001b[39m\u001b[38;5;241m+\u001b[39m\u001b[38;5;241m1\u001b[39m\n",
      "\u001b[1;31mTypeError\u001b[0m: can only concatenate str (not \"int\") to str"
     ]
    }
   ],
   "source": [
    "\"123\"+1"
   ]
  },
  {
   "cell_type": "code",
   "execution_count": 21,
   "id": "38904a39-6d1d-4c6e-9387-c457671ec8a2",
   "metadata": {},
   "outputs": [
    {
     "data": {
      "text/plain": [
       "124.0"
      ]
     },
     "execution_count": 21,
     "metadata": {},
     "output_type": "execute_result"
    }
   ],
   "source": [
    "float(\"123\")+1"
   ]
  },
  {
   "cell_type": "code",
   "execution_count": 22,
   "id": "1642abb8-1b68-4173-80a9-c01e53e2fcb1",
   "metadata": {},
   "outputs": [
    {
     "data": {
      "text/plain": [
       "['In',\n",
       " 'Out',\n",
       " '_',\n",
       " '_1',\n",
       " '_10',\n",
       " '_11',\n",
       " '_12',\n",
       " '_13',\n",
       " '_14',\n",
       " '_15',\n",
       " '_16',\n",
       " '_17',\n",
       " '_18',\n",
       " '_19',\n",
       " '_2',\n",
       " '_20',\n",
       " '_21',\n",
       " '_22',\n",
       " '_3',\n",
       " '_4',\n",
       " '_5',\n",
       " '_6',\n",
       " '_7',\n",
       " '_8',\n",
       " '_9',\n",
       " '__',\n",
       " '___',\n",
       " '__builtin__',\n",
       " '__builtins__',\n",
       " '__doc__',\n",
       " '__loader__',\n",
       " '__name__',\n",
       " '__package__',\n",
       " '__pandas',\n",
       " '__session__',\n",
       " '__spec__',\n",
       " '_dh',\n",
       " '_i',\n",
       " '_i1',\n",
       " '_i10',\n",
       " '_i11',\n",
       " '_i12',\n",
       " '_i13',\n",
       " '_i14',\n",
       " '_i15',\n",
       " '_i16',\n",
       " '_i17',\n",
       " '_i18',\n",
       " '_i19',\n",
       " '_i2',\n",
       " '_i20',\n",
       " '_i21',\n",
       " '_i22',\n",
       " '_i3',\n",
       " '_i4',\n",
       " '_i5',\n",
       " '_i6',\n",
       " '_i7',\n",
       " '_i8',\n",
       " '_i9',\n",
       " '_ih',\n",
       " '_ii',\n",
       " '_iii',\n",
       " '_oh',\n",
       " 'dataframe_columns',\n",
       " 'dataframe_hash',\n",
       " 'dtypes_str',\n",
       " 'exit',\n",
       " 'get_dataframes',\n",
       " 'get_ipython',\n",
       " 'getpass',\n",
       " 'greetin',\n",
       " 'greeting',\n",
       " 'hashlib',\n",
       " 'import_pandas_safely',\n",
       " 'is_data_frame',\n",
       " 'json',\n",
       " 'open',\n",
       " 'quit']"
      ]
     },
     "execution_count": 22,
     "metadata": {},
     "output_type": "execute_result"
    }
   ],
   "source": [
    "# bilt-in functions\n",
    "dir()"
   ]
  },
  {
   "cell_type": "code",
   "execution_count": 25,
   "id": "b39cce47-cfb2-411d-9829-6d749d530c98",
   "metadata": {},
   "outputs": [
    {
     "data": {
      "text/plain": [
       "['ArithmeticError',\n",
       " 'AssertionError',\n",
       " 'AttributeError',\n",
       " 'BaseException',\n",
       " 'BaseExceptionGroup',\n",
       " 'BlockingIOError',\n",
       " 'BrokenPipeError',\n",
       " 'BufferError',\n",
       " 'BytesWarning',\n",
       " 'ChildProcessError',\n",
       " 'ConnectionAbortedError',\n",
       " 'ConnectionError',\n",
       " 'ConnectionRefusedError',\n",
       " 'ConnectionResetError',\n",
       " 'DeprecationWarning',\n",
       " 'EOFError',\n",
       " 'Ellipsis',\n",
       " 'EncodingWarning',\n",
       " 'EnvironmentError',\n",
       " 'Exception',\n",
       " 'ExceptionGroup',\n",
       " 'False',\n",
       " 'FileExistsError',\n",
       " 'FileNotFoundError',\n",
       " 'FloatingPointError',\n",
       " 'FutureWarning',\n",
       " 'GeneratorExit',\n",
       " 'IOError',\n",
       " 'ImportError',\n",
       " 'ImportWarning',\n",
       " 'IndentationError',\n",
       " 'IndexError',\n",
       " 'InterruptedError',\n",
       " 'IsADirectoryError',\n",
       " 'KeyError',\n",
       " 'KeyboardInterrupt',\n",
       " 'LookupError',\n",
       " 'MemoryError',\n",
       " 'ModuleNotFoundError',\n",
       " 'NameError',\n",
       " 'None',\n",
       " 'NotADirectoryError',\n",
       " 'NotImplemented',\n",
       " 'NotImplementedError',\n",
       " 'OSError',\n",
       " 'OverflowError',\n",
       " 'PendingDeprecationWarning',\n",
       " 'PermissionError',\n",
       " 'ProcessLookupError',\n",
       " 'PythonFinalizationError',\n",
       " 'RecursionError',\n",
       " 'ReferenceError',\n",
       " 'ResourceWarning',\n",
       " 'RuntimeError',\n",
       " 'RuntimeWarning',\n",
       " 'StopAsyncIteration',\n",
       " 'StopIteration',\n",
       " 'SyntaxError',\n",
       " 'SyntaxWarning',\n",
       " 'SystemError',\n",
       " 'SystemExit',\n",
       " 'TabError',\n",
       " 'TimeoutError',\n",
       " 'True',\n",
       " 'TypeError',\n",
       " 'UnboundLocalError',\n",
       " 'UnicodeDecodeError',\n",
       " 'UnicodeEncodeError',\n",
       " 'UnicodeError',\n",
       " 'UnicodeTranslateError',\n",
       " 'UnicodeWarning',\n",
       " 'UserWarning',\n",
       " 'ValueError',\n",
       " 'Warning',\n",
       " 'WindowsError',\n",
       " 'ZeroDivisionError',\n",
       " '_IncompleteInputError',\n",
       " '__IPYTHON__',\n",
       " '__build_class__',\n",
       " '__debug__',\n",
       " '__doc__',\n",
       " '__import__',\n",
       " '__loader__',\n",
       " '__name__',\n",
       " '__package__',\n",
       " '__spec__',\n",
       " 'abs',\n",
       " 'aiter',\n",
       " 'all',\n",
       " 'anext',\n",
       " 'any',\n",
       " 'ascii',\n",
       " 'bin',\n",
       " 'bool',\n",
       " 'breakpoint',\n",
       " 'bytearray',\n",
       " 'bytes',\n",
       " 'callable',\n",
       " 'chr',\n",
       " 'classmethod',\n",
       " 'compile',\n",
       " 'complex',\n",
       " 'copyright',\n",
       " 'credits',\n",
       " 'delattr',\n",
       " 'dict',\n",
       " 'dir',\n",
       " 'display',\n",
       " 'divmod',\n",
       " 'enumerate',\n",
       " 'eval',\n",
       " 'exec',\n",
       " 'execfile',\n",
       " 'filter',\n",
       " 'float',\n",
       " 'format',\n",
       " 'frozenset',\n",
       " 'get_ipython',\n",
       " 'getattr',\n",
       " 'globals',\n",
       " 'hasattr',\n",
       " 'hash',\n",
       " 'help',\n",
       " 'hex',\n",
       " 'id',\n",
       " 'input',\n",
       " 'int',\n",
       " 'isinstance',\n",
       " 'issubclass',\n",
       " 'iter',\n",
       " 'len',\n",
       " 'license',\n",
       " 'list',\n",
       " 'locals',\n",
       " 'map',\n",
       " 'max',\n",
       " 'memoryview',\n",
       " 'min',\n",
       " 'next',\n",
       " 'object',\n",
       " 'oct',\n",
       " 'open',\n",
       " 'ord',\n",
       " 'pow',\n",
       " 'print',\n",
       " 'property',\n",
       " 'range',\n",
       " 'repr',\n",
       " 'reversed',\n",
       " 'round',\n",
       " 'runfile',\n",
       " 'set',\n",
       " 'setattr',\n",
       " 'slice',\n",
       " 'sorted',\n",
       " 'staticmethod',\n",
       " 'str',\n",
       " 'sum',\n",
       " 'super',\n",
       " 'tuple',\n",
       " 'type',\n",
       " 'vars',\n",
       " 'zip']"
      ]
     },
     "execution_count": 25,
     "metadata": {},
     "output_type": "execute_result"
    }
   ],
   "source": [
    "dir(__builtins__)"
   ]
  },
  {
   "cell_type": "code",
   "execution_count": 29,
   "id": "bfa0bc50-1e75-4ea6-8a04-3a074b13ef86",
   "metadata": {},
   "outputs": [
    {
     "name": "stdout",
     "output_type": "stream",
     "text": [
      "Help on built-in function max in module builtins:\n",
      "\n",
      "max(...)\n",
      "    max(iterable, *[, default=obj, key=func]) -> value\n",
      "    max(arg1, arg2, *args, *[, key=func]) -> value\n",
      "\n",
      "    With a single iterable argument, return its biggest item. The\n",
      "    default keyword-only argument specifies an object to return if\n",
      "    the provided iterable is empty.\n",
      "    With two or more positional arguments, return the largest argument.\n",
      "\n"
     ]
    }
   ],
   "source": [
    "help(max)"
   ]
  },
  {
   "cell_type": "code",
   "execution_count": 31,
   "id": "a78fa890-25f8-4689-a732-fc17718f0190",
   "metadata": {},
   "outputs": [
    {
     "data": {
      "text/plain": [
       "'k'"
      ]
     },
     "execution_count": 31,
     "metadata": {},
     "output_type": "execute_result"
    }
   ],
   "source": [
    "max(\"Mike\")"
   ]
  },
  {
   "cell_type": "code",
   "execution_count": 32,
   "id": "10237b03-3837-4669-93dd-c786a77f61bf",
   "metadata": {},
   "outputs": [
    {
     "data": {
      "text/plain": [
       "'m'"
      ]
     },
     "execution_count": 32,
     "metadata": {},
     "output_type": "execute_result"
    }
   ],
   "source": [
    "max(\"mike\")"
   ]
  },
  {
   "cell_type": "code",
   "execution_count": 33,
   "id": "20c65924-806a-4d8b-ad89-082a0caa0ba8",
   "metadata": {},
   "outputs": [
    {
     "data": {
      "text/plain": [
       "'M'"
      ]
     },
     "execution_count": 33,
     "metadata": {},
     "output_type": "execute_result"
    }
   ],
   "source": [
    "min(\"Mike\")# space takes precedence before Capital letters which take precedence before small letters"
   ]
  },
  {
   "cell_type": "code",
   "execution_count": 34,
   "id": "d9fffb01-5371-4e48-9b77-88b6fd602eca",
   "metadata": {},
   "outputs": [
    {
     "data": {
      "text/plain": [
       "'A'"
      ]
     },
     "execution_count": 34,
     "metadata": {},
     "output_type": "execute_result"
    }
   ],
   "source": [
    "min(\"ABCDEFGHabcdefgh\")"
   ]
  },
  {
   "cell_type": "code",
   "execution_count": 35,
   "id": "8158a5b1-6b50-4fb9-b386-d2f52f108f30",
   "metadata": {},
   "outputs": [
    {
     "data": {
      "text/plain": [
       "'h'"
      ]
     },
     "execution_count": 35,
     "metadata": {},
     "output_type": "execute_result"
    }
   ],
   "source": [
    "max(\"ABCDEFGHabcdefgh\")\n"
   ]
  },
  {
   "cell_type": "code",
   "execution_count": 36,
   "id": "7fe41366-80c7-4969-b7ee-22fbd446c433",
   "metadata": {},
   "outputs": [
    {
     "data": {
      "text/plain": [
       "' '"
      ]
     },
     "execution_count": 36,
     "metadata": {},
     "output_type": "execute_result"
    }
   ],
   "source": [
    "min(\"ABCDEFGH abcdefgh\")\n"
   ]
  },
  {
   "cell_type": "code",
   "execution_count": 37,
   "id": "848407d6-452b-4612-9662-cd332882677a",
   "metadata": {},
   "outputs": [
    {
     "data": {
      "text/plain": [
       "'h'"
      ]
     },
     "execution_count": 37,
     "metadata": {},
     "output_type": "execute_result"
    }
   ],
   "source": [
    "max(\"ABCDEFGH abcdefgh\")\n"
   ]
  },
  {
   "cell_type": "code",
   "execution_count": 38,
   "id": "ffbf5e59-98c8-4cbf-90a2-9098e155d286",
   "metadata": {},
   "outputs": [
    {
     "data": {
      "text/plain": [
       "5"
      ]
     },
     "execution_count": 38,
     "metadata": {},
     "output_type": "execute_result"
    }
   ],
   "source": [
    "len(\"Sareh\")"
   ]
  },
  {
   "cell_type": "code",
   "execution_count": 39,
   "id": "59beb8aa-9ac0-43fa-9876-0b792858abe6",
   "metadata": {},
   "outputs": [
    {
     "data": {
      "text/plain": [
       "15"
      ]
     },
     "execution_count": 39,
     "metadata": {},
     "output_type": "execute_result"
    }
   ],
   "source": [
    "sum([1,2,3,4,5])"
   ]
  },
  {
   "cell_type": "code",
   "execution_count": 40,
   "id": "094c3d7f-265e-40fd-bc46-19e90796f444",
   "metadata": {},
   "outputs": [
    {
     "data": {
      "text/plain": [
       "5"
      ]
     },
     "execution_count": 40,
     "metadata": {},
     "output_type": "execute_result"
    }
   ],
   "source": [
    "max([1,2,3,4,5])"
   ]
  },
  {
   "cell_type": "code",
   "execution_count": 133,
   "id": "cb851858-91b5-4991-9fa8-2ebd40823419",
   "metadata": {},
   "outputs": [],
   "source": [
    "def greeting(name,age,gender):\n",
    "    return(f\"Hello {name}. My name is {age} and I am a {gender}\")"
   ]
  },
  {
   "cell_type": "code",
   "execution_count": 134,
   "id": "319d8d89-305d-4106-979a-57be5e12b768",
   "metadata": {},
   "outputs": [],
   "source": [
    "greet = greeting(\"Mike\",87,\"Male\")"
   ]
  },
  {
   "cell_type": "code",
   "execution_count": 135,
   "id": "0f6c864a-844e-4e07-b0fb-71b650d4fd14",
   "metadata": {},
   "outputs": [
    {
     "data": {
      "text/plain": [
       "'Hello Mike. My name is 87 and I am a Male'"
      ]
     },
     "execution_count": 135,
     "metadata": {},
     "output_type": "execute_result"
    }
   ],
   "source": [
    "greet # return allows the greet variable to show result multiple times with inverted commas"
   ]
  },
  {
   "cell_type": "code",
   "execution_count": 136,
   "id": "2d71e7ca-19d3-4b59-949f-29d6eddde9c7",
   "metadata": {},
   "outputs": [
    {
     "data": {
      "text/plain": [
       "'Hello Mike. My name is 87 and I am a Male'"
      ]
     },
     "execution_count": 136,
     "metadata": {},
     "output_type": "execute_result"
    }
   ],
   "source": [
    "greet"
   ]
  },
  {
   "cell_type": "code",
   "execution_count": 137,
   "id": "a492908e-81c3-4cbf-b3c7-955df9cc4c4a",
   "metadata": {},
   "outputs": [],
   "source": [
    "def greeting(name,age,gender):\n",
    "    print(f\"Hello {name}. My name is {age} and I am a {gender}\")"
   ]
  },
  {
   "cell_type": "code",
   "execution_count": 138,
   "id": "78e66cf8-770d-434f-bae1-b392b57efc38",
   "metadata": {},
   "outputs": [
    {
     "name": "stdout",
     "output_type": "stream",
     "text": [
      "Hello Mike. My name is 87 and I am a Male\n"
     ]
    }
   ],
   "source": [
    "greet = greeting(\"Mike\",87,\"Male\")"
   ]
  },
  {
   "cell_type": "code",
   "execution_count": 141,
   "id": "8857f67f-4984-4b15-bb3b-e6b9f8999456",
   "metadata": {},
   "outputs": [],
   "source": [
    "greet # print closes the code after running once.already printed in the backend. no inverted commas"
   ]
  },
  {
   "cell_type": "code",
   "execution_count": 140,
   "id": "c0fa0a79-26bf-4aae-8ca6-aa0db7dab83c",
   "metadata": {},
   "outputs": [
    {
     "name": "stdout",
     "output_type": "stream",
     "text": [
      "Bof\n",
      "None\n"
     ]
    }
   ],
   "source": [
    "print(print(\"Bof\"))"
   ]
  },
  {
   "cell_type": "code",
   "execution_count": null,
   "id": "22f4f0af-f458-4e7d-b712-2088b7668c61",
   "metadata": {},
   "outputs": [],
   "source": []
  }
 ],
 "metadata": {
  "kernelspec": {
   "display_name": "Python [conda env:base] *",
   "language": "python",
   "name": "conda-base-py"
  },
  "language_info": {
   "codemirror_mode": {
    "name": "ipython",
    "version": 3
   },
   "file_extension": ".py",
   "mimetype": "text/x-python",
   "name": "python",
   "nbconvert_exporter": "python",
   "pygments_lexer": "ipython3",
   "version": "3.13.5"
  }
 },
 "nbformat": 4,
 "nbformat_minor": 5
}
